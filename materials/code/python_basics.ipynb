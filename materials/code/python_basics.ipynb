{
 "cells": [
  {
   "cell_type": "markdown",
   "id": "defensive-reviewer",
   "metadata": {},
   "source": [
    "# Python Basics\n",
    "\n",
    "### The ABC of Computational Text Analysis (Spring 2022)\n",
    "### BA-Seminar at University of Lucerne by Alex Flückiger"
   ]
  },
  {
   "cell_type": "markdown",
   "id": "suited-feedback",
   "metadata": {},
   "source": [
    "## Variables"
   ]
  },
  {
   "cell_type": "code",
   "execution_count": 1,
   "id": "modular-diana",
   "metadata": {},
   "outputs": [
    {
     "name": "stdout",
     "output_type": "stream",
     "text": [
      "at your service, most of the time.\n"
     ]
    }
   ],
   "source": [
    "# define variable*\n",
    "x = \"at your service\"\n",
    "y = 2\n",
    "z = \", most of the time.\"\n",
    "\n",
    "# combine variables\n",
    "int_combo = y * y  # for numbers any mathematical operation\n",
    "str_combo = x + z  # for text only concatenation with +\n",
    "\n",
    "# show content of variable\n",
    "print(str_combo)"
   ]
  },
  {
   "cell_type": "markdown",
   "id": "miniature-ability",
   "metadata": {},
   "source": [
    "## Data Type Conversion"
   ]
  },
  {
   "cell_type": "code",
   "execution_count": 2,
   "id": "745fc074-a1c6-48be-ae2f-25f903679d0b",
   "metadata": {},
   "outputs": [
    {
     "data": {
      "text/plain": [
       "str"
      ]
     },
     "execution_count": 2,
     "metadata": {},
     "output_type": "execute_result"
    }
   ],
   "source": [
    "# check the type\n",
    "type(x)"
   ]
  },
  {
   "cell_type": "code",
   "execution_count": 3,
   "id": "threaded-benjamin",
   "metadata": {},
   "outputs": [
    {
     "name": "stdout",
     "output_type": "stream",
     "text": [
      "x has the value: 3\n"
     ]
    }
   ],
   "source": [
    "# convert types (similar for other types)\n",
    "int('100')  # convert to integer\n",
    "str(100)    # convert to string\n",
    "\n",
    "# include variable in a f-string\n",
    "x = 3\n",
    "mixed = f\"x has the value: {x}\"\n",
    "print(mixed)"
   ]
  },
  {
   "cell_type": "markdown",
   "id": "uniform-coffee",
   "metadata": {},
   "source": [
    "## Assign vs. Compare"
   ]
  },
  {
   "cell_type": "code",
   "execution_count": 4,
   "id": "domestic-colorado",
   "metadata": {},
   "outputs": [
    {
     "data": {
      "text/plain": [
       "True"
      ]
     },
     "execution_count": 4,
     "metadata": {},
     "output_type": "execute_result"
    }
   ],
   "source": [
    "# assign a value to a variable\n",
    "x = 1\n",
    "word = \"Test\"\n",
    "\n",
    "# compare two values if they are identical\n",
    "1 == 2  #  False\n",
    "word == \"Test\"  # True"
   ]
  },
  {
   "cell_type": "markdown",
   "id": "architectural-soviet",
   "metadata": {
    "tags": []
   },
   "source": [
    "## iterate with for-loop"
   ]
  },
  {
   "cell_type": "code",
   "execution_count": 5,
   "id": "constant-marketing",
   "metadata": {},
   "outputs": [
    {
     "name": "stdout",
     "output_type": "stream",
     "text": [
      "This\n",
      "is\n",
      "a\n",
      "sentence\n"
     ]
    }
   ],
   "source": [
    "sentence = [\"This\", \"is\", \"a\", \"sentence\"]\n",
    "\n",
    "# iterate over each element\n",
    "for token in sentence:\n",
    "\n",
    "    # do something with the element\n",
    "    print(token)"
   ]
  },
  {
   "cell_type": "markdown",
   "id": "parental-scanning",
   "metadata": {},
   "source": [
    "## condition with if-else statement"
   ]
  },
  {
   "cell_type": "code",
   "execution_count": 6,
   "id": "fancy-interview",
   "metadata": {},
   "outputs": [
    {
     "name": "stdout",
     "output_type": "stream",
     "text": [
      "This sentence has less than 5 tokens\n"
     ]
    }
   ],
   "source": [
    "sentence = ['This', 'is', 'a', 'sentence']\n",
    "\n",
    "if len(sentence) == 3:\n",
    "    print('This sentence has exactly 3 tokens')\n",
    "elif len(sentence) < 5:\n",
    "    print('This sentence has less than 5 tokens')\n",
    "else:\n",
    "    print('This sentence is longer than 5 tokens')"
   ]
  },
  {
   "cell_type": "markdown",
   "id": "laughing-bottom",
   "metadata": {},
   "source": [
    "## Methods"
   ]
  },
  {
   "cell_type": "code",
   "execution_count": 7,
   "id": "linear-steps",
   "metadata": {},
   "outputs": [
    {
     "name": "stdout",
     "output_type": "stream",
     "text": [
      "['This', 'is', 'a', 'sentence'] <class 'list'>\n",
      "This is a sentence . <class 'str'>\n"
     ]
    }
   ],
   "source": [
    "tokens = \"This is a sentence\".split(\" \")  # split at whitespace\n",
    "print(tokens, type(tokens))  # check the variable\n",
    "\n",
    "tokens.append(\".\")  # add something to a list\n",
    "\n",
    "tokens = \" \".join(tokens)  # join elements to string\n",
    "print(tokens, type(tokens))  # check the variable"
   ]
  },
  {
   "cell_type": "markdown",
   "id": "regional-sculpture",
   "metadata": {},
   "source": [
    "## Functions"
   ]
  },
  {
   "cell_type": "code",
   "execution_count": 8,
   "id": "australian-methodology",
   "metadata": {},
   "outputs": [
    {
     "name": "stdout",
     "output_type": "stream",
     "text": [
      "Properties for the word 'computer':\n",
      "length: 8 letters: ['u', 't', 'r', 'p', 'o', 'm', 'e', 'c']\n"
     ]
    }
   ],
   "source": [
    "# define a new function\n",
    "def word_properties(word):\n",
    "    \"\"\"\n",
    "    Print some properties of the provided word.\n",
    "    It takes any string as argument (variable word).\n",
    "    \"\"\"\n",
    "\n",
    "    # print(), len() and sorted() are functions themeselves\n",
    "    word_length = len(word)\n",
    "    sorted_letters = sorted(word, reverse=True)\n",
    "    print(f\"Properties for the word '{word}':\")\n",
    "    print(\"length:\", word_length, \"letters:\", sorted_letters)\n",
    "\n",
    "word_properties(\"computer\") # call function with the word \"computer\""
   ]
  },
  {
   "cell_type": "markdown",
   "id": "frank-jerusalem",
   "metadata": {
    "tags": []
   },
   "source": [
    "## Indexing"
   ]
  },
  {
   "cell_type": "code",
   "execution_count": 9,
   "id": "written-shooting",
   "metadata": {},
   "outputs": [
    {
     "name": "stdout",
     "output_type": "stream",
     "text": [
      "This\n",
      "['This', 'is', 'a']\n",
      "['a', 'sentence']\n"
     ]
    }
   ],
   "source": [
    "sentence =[\"This\", \"is\", \"a\", \"sentence\"]\n",
    "\n",
    "# element at position X\n",
    "first_tok = sentence[0]  # 'This'\n",
    "print(first_tok)\n",
    "\n",
    "# elements of subsequence [start:end]\n",
    "sub_seq = sentence[0:3]  # ['This', 'is', 'a']\n",
    "print(sub_seq)\n",
    "\n",
    "# elements of subsequence backwards\n",
    "sub_seq_back = sentence[-2:]  # ['a', 'sentence']\n",
    "print(sub_seq_back)"
   ]
  }
 ],
 "metadata": {
  "kernelspec": {
   "display_name": "Python 3",
   "language": "python",
   "name": "python3"
  },
  "language_info": {
   "codemirror_mode": {
    "name": "ipython",
    "version": 3
   },
   "file_extension": ".py",
   "mimetype": "text/x-python",
   "name": "python",
   "nbconvert_exporter": "python",
   "pygments_lexer": "ipython3",
   "version": "3.10.4"
  }
 },
 "nbformat": 4,
 "nbformat_minor": 5
}
