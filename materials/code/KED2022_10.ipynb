{
 "cells": [
  {
   "cell_type": "markdown",
   "metadata": {
    "slideshow": {
     "slide_type": "slide"
    }
   },
   "source": [
    "<section id=\"title-slide\">\n",
    "  <h1 class=\"title\">The ABC of Computational Text Analysis</h1>\n",
    "  <h2 class=\"subtitle\">#10: NLP with Python</h2>\n",
    "  <p class=\"author\">Alex Flückiger</p><p class=\"date\">12/19 May 2022</p>\n",
    "</section>"
   ]
  },
  {
   "cell_type": "code",
   "execution_count": 1,
   "metadata": {
    "slideshow": {
     "slide_type": "skip"
    }
   },
   "outputs": [
    {
     "data": {
      "text/html": [
       "<style>\n",
       "div.prompt {display:none}\n",
       "</style>\n"
      ],
      "text/plain": [
       "<IPython.core.display.HTML object>"
      ]
     },
     "metadata": {},
     "output_type": "display_data"
    }
   ],
   "source": [
    "%%HTML\n",
    "<style>\n",
    "div.prompt {display:none}\n",
    "</style>"
   ]
  },
  {
   "cell_type": "markdown",
   "metadata": {
    "slideshow": {
     "slide_type": "slide"
    }
   },
   "source": [
    "# Overview Analysis\n",
    "\n",
    "- get linguistic information from text\n",
    "- explore differences between two corpora \n",
    "    - using politcial party programmes\n",
    "- visualize term frequency over time\n",
    "  - using 1 August speeches by Swiss Federal Councillors"
   ]
  },
  {
   "cell_type": "markdown",
   "metadata": {
    "slideshow": {
     "slide_type": "slide"
    }
   },
   "source": [
    "# Do Natural Language Processing (NLP)"
   ]
  },
  {
   "cell_type": "markdown",
   "metadata": {
    "slideshow": {
     "slide_type": "slide"
    }
   },
   "source": [
    "## Modules\n",
    "#### Standing of the Shoulders of Giants\n",
    "- [spaCy](https://spacy.io/usage/spacy-101): use or build state-of-the-art NLP pipeline\n",
    "- [textaCy](https://textacy.readthedocs.io): do high-level analysis, extends spaCy\n",
    "- [scattertext](https://github.com/JasonKessler/scattertext): visualize differences across corpora\n",
    "- [pandas](https://pandas.pydata.org/docs/getting_started/intro_tutorials/index.html): analyze tabular data \n",
    "- [plotnine](https://plotnine.readthedocs.io): visualize anything (*ggplot for Python*)"
   ]
  },
  {
   "cell_type": "markdown",
   "metadata": {
    "slideshow": {
     "slide_type": "slide"
    }
   },
   "source": [
    "# Importing Modules\n",
    "\n",
    "various ways of importing"
   ]
  },
  {
   "cell_type": "code",
   "execution_count": 2,
   "metadata": {
    "slideshow": {
     "slide_type": "-"
    }
   },
   "outputs": [],
   "source": [
    "# standard import\n",
    "import textacy\n",
    "import spacy\n",
    "\n",
    "# import with a short name\n",
    "import scattertext as st \n",
    "import pandas as pd\n",
    "\n",
    "# import all specific/all objects from a module\n",
    "from pathlib import Path\n",
    "from plotnine import *"
   ]
  },
  {
   "cell_type": "markdown",
   "metadata": {
    "slideshow": {
     "slide_type": "slide"
    }
   },
   "source": [
    "# Basic NLP\n",
    "Process a single document"
   ]
  },
  {
   "cell_type": "code",
   "execution_count": 3,
   "metadata": {
    "slideshow": {
     "slide_type": "-"
    }
   },
   "outputs": [],
   "source": [
    "# example text (to read from a file see below)\n",
    "text = \"Apple's CEO Tim Cook is looking at buying U.K. startup for $1 billion.\"\n",
    "\n",
    "# load the English language model\n",
    "en = textacy.load_spacy_lang(\"en_core_web_sm\")\n",
    "\n",
    "# process document (tokenizing, tagging, parsing, recognizing named entities)\n",
    "doc = textacy.make_spacy_doc(text, lang=en)"
   ]
  },
  {
   "cell_type": "markdown",
   "metadata": {
    "slideshow": {
     "slide_type": "slide"
    }
   },
   "source": [
    "## Linguistic Features\n",
    "Features per token and their dependencies"
   ]
  },
  {
   "cell_type": "code",
   "execution_count": 4,
   "metadata": {
    "slideshow": {
     "slide_type": "-"
    }
   },
   "outputs": [
    {
     "data": {
      "text/html": [
       "<span class=\"tex2jax_ignore\"><svg xmlns=\"http://www.w3.org/2000/svg\" xmlns:xlink=\"http://www.w3.org/1999/xlink\" xml:lang=\"en\" id=\"685019bf1ef74e7faa1c489e9a90360e-0\" class=\"displacy\" width=\"2675\" height=\"487.0\" direction=\"ltr\" style=\"max-width: none; height: 487.0px; color: #000000; background: #ffffff; font-family: Arial; direction: ltr\">\n",
       "<text class=\"displacy-token\" fill=\"currentColor\" text-anchor=\"middle\" y=\"397.0\">\n",
       "    <tspan class=\"displacy-word\" fill=\"currentColor\" x=\"50\">Apple</tspan>\n",
       "    <tspan class=\"displacy-tag\" dy=\"2em\" fill=\"currentColor\" x=\"50\">PROPN</tspan>\n",
       "</text>\n",
       "\n",
       "<text class=\"displacy-token\" fill=\"currentColor\" text-anchor=\"middle\" y=\"397.0\">\n",
       "    <tspan class=\"displacy-word\" fill=\"currentColor\" x=\"225\">'s</tspan>\n",
       "    <tspan class=\"displacy-tag\" dy=\"2em\" fill=\"currentColor\" x=\"225\">PART</tspan>\n",
       "</text>\n",
       "\n",
       "<text class=\"displacy-token\" fill=\"currentColor\" text-anchor=\"middle\" y=\"397.0\">\n",
       "    <tspan class=\"displacy-word\" fill=\"currentColor\" x=\"400\">CEO</tspan>\n",
       "    <tspan class=\"displacy-tag\" dy=\"2em\" fill=\"currentColor\" x=\"400\">PROPN</tspan>\n",
       "</text>\n",
       "\n",
       "<text class=\"displacy-token\" fill=\"currentColor\" text-anchor=\"middle\" y=\"397.0\">\n",
       "    <tspan class=\"displacy-word\" fill=\"currentColor\" x=\"575\">Tim</tspan>\n",
       "    <tspan class=\"displacy-tag\" dy=\"2em\" fill=\"currentColor\" x=\"575\">PROPN</tspan>\n",
       "</text>\n",
       "\n",
       "<text class=\"displacy-token\" fill=\"currentColor\" text-anchor=\"middle\" y=\"397.0\">\n",
       "    <tspan class=\"displacy-word\" fill=\"currentColor\" x=\"750\">Cook</tspan>\n",
       "    <tspan class=\"displacy-tag\" dy=\"2em\" fill=\"currentColor\" x=\"750\">PROPN</tspan>\n",
       "</text>\n",
       "\n",
       "<text class=\"displacy-token\" fill=\"currentColor\" text-anchor=\"middle\" y=\"397.0\">\n",
       "    <tspan class=\"displacy-word\" fill=\"currentColor\" x=\"925\">is</tspan>\n",
       "    <tspan class=\"displacy-tag\" dy=\"2em\" fill=\"currentColor\" x=\"925\">AUX</tspan>\n",
       "</text>\n",
       "\n",
       "<text class=\"displacy-token\" fill=\"currentColor\" text-anchor=\"middle\" y=\"397.0\">\n",
       "    <tspan class=\"displacy-word\" fill=\"currentColor\" x=\"1100\">looking</tspan>\n",
       "    <tspan class=\"displacy-tag\" dy=\"2em\" fill=\"currentColor\" x=\"1100\">VERB</tspan>\n",
       "</text>\n",
       "\n",
       "<text class=\"displacy-token\" fill=\"currentColor\" text-anchor=\"middle\" y=\"397.0\">\n",
       "    <tspan class=\"displacy-word\" fill=\"currentColor\" x=\"1275\">at</tspan>\n",
       "    <tspan class=\"displacy-tag\" dy=\"2em\" fill=\"currentColor\" x=\"1275\">ADP</tspan>\n",
       "</text>\n",
       "\n",
       "<text class=\"displacy-token\" fill=\"currentColor\" text-anchor=\"middle\" y=\"397.0\">\n",
       "    <tspan class=\"displacy-word\" fill=\"currentColor\" x=\"1450\">buying</tspan>\n",
       "    <tspan class=\"displacy-tag\" dy=\"2em\" fill=\"currentColor\" x=\"1450\">VERB</tspan>\n",
       "</text>\n",
       "\n",
       "<text class=\"displacy-token\" fill=\"currentColor\" text-anchor=\"middle\" y=\"397.0\">\n",
       "    <tspan class=\"displacy-word\" fill=\"currentColor\" x=\"1625\">U.K.</tspan>\n",
       "    <tspan class=\"displacy-tag\" dy=\"2em\" fill=\"currentColor\" x=\"1625\">PROPN</tspan>\n",
       "</text>\n",
       "\n",
       "<text class=\"displacy-token\" fill=\"currentColor\" text-anchor=\"middle\" y=\"397.0\">\n",
       "    <tspan class=\"displacy-word\" fill=\"currentColor\" x=\"1800\">startup</tspan>\n",
       "    <tspan class=\"displacy-tag\" dy=\"2em\" fill=\"currentColor\" x=\"1800\">VERB</tspan>\n",
       "</text>\n",
       "\n",
       "<text class=\"displacy-token\" fill=\"currentColor\" text-anchor=\"middle\" y=\"397.0\">\n",
       "    <tspan class=\"displacy-word\" fill=\"currentColor\" x=\"1975\">for</tspan>\n",
       "    <tspan class=\"displacy-tag\" dy=\"2em\" fill=\"currentColor\" x=\"1975\">ADP</tspan>\n",
       "</text>\n",
       "\n",
       "<text class=\"displacy-token\" fill=\"currentColor\" text-anchor=\"middle\" y=\"397.0\">\n",
       "    <tspan class=\"displacy-word\" fill=\"currentColor\" x=\"2150\">$</tspan>\n",
       "    <tspan class=\"displacy-tag\" dy=\"2em\" fill=\"currentColor\" x=\"2150\">SYM</tspan>\n",
       "</text>\n",
       "\n",
       "<text class=\"displacy-token\" fill=\"currentColor\" text-anchor=\"middle\" y=\"397.0\">\n",
       "    <tspan class=\"displacy-word\" fill=\"currentColor\" x=\"2325\">1</tspan>\n",
       "    <tspan class=\"displacy-tag\" dy=\"2em\" fill=\"currentColor\" x=\"2325\">NUM</tspan>\n",
       "</text>\n",
       "\n",
       "<text class=\"displacy-token\" fill=\"currentColor\" text-anchor=\"middle\" y=\"397.0\">\n",
       "    <tspan class=\"displacy-word\" fill=\"currentColor\" x=\"2500\">billion.</tspan>\n",
       "    <tspan class=\"displacy-tag\" dy=\"2em\" fill=\"currentColor\" x=\"2500\">NUM</tspan>\n",
       "</text>\n",
       "\n",
       "<g class=\"displacy-arrow\">\n",
       "    <path class=\"displacy-arc\" id=\"arrow-685019bf1ef74e7faa1c489e9a90360e-0-0\" stroke-width=\"2px\" d=\"M70,352.0 C70,177.0 390.0,177.0 390.0,352.0\" fill=\"none\" stroke=\"currentColor\"/>\n",
       "    <text dy=\"1.25em\" style=\"font-size: 0.8em; letter-spacing: 1px\">\n",
       "        <textPath xlink:href=\"#arrow-685019bf1ef74e7faa1c489e9a90360e-0-0\" class=\"displacy-label\" startOffset=\"50%\" side=\"left\" fill=\"currentColor\" text-anchor=\"middle\">poss</textPath>\n",
       "    </text>\n",
       "    <path class=\"displacy-arrowhead\" d=\"M70,354.0 L62,342.0 78,342.0\" fill=\"currentColor\"/>\n",
       "</g>\n",
       "\n",
       "<g class=\"displacy-arrow\">\n",
       "    <path class=\"displacy-arc\" id=\"arrow-685019bf1ef74e7faa1c489e9a90360e-0-1\" stroke-width=\"2px\" d=\"M70,352.0 C70,264.5 210.0,264.5 210.0,352.0\" fill=\"none\" stroke=\"currentColor\"/>\n",
       "    <text dy=\"1.25em\" style=\"font-size: 0.8em; letter-spacing: 1px\">\n",
       "        <textPath xlink:href=\"#arrow-685019bf1ef74e7faa1c489e9a90360e-0-1\" class=\"displacy-label\" startOffset=\"50%\" side=\"left\" fill=\"currentColor\" text-anchor=\"middle\">case</textPath>\n",
       "    </text>\n",
       "    <path class=\"displacy-arrowhead\" d=\"M210.0,354.0 L218.0,342.0 202.0,342.0\" fill=\"currentColor\"/>\n",
       "</g>\n",
       "\n",
       "<g class=\"displacy-arrow\">\n",
       "    <path class=\"displacy-arc\" id=\"arrow-685019bf1ef74e7faa1c489e9a90360e-0-2\" stroke-width=\"2px\" d=\"M420,352.0 C420,2.0 1100.0,2.0 1100.0,352.0\" fill=\"none\" stroke=\"currentColor\"/>\n",
       "    <text dy=\"1.25em\" style=\"font-size: 0.8em; letter-spacing: 1px\">\n",
       "        <textPath xlink:href=\"#arrow-685019bf1ef74e7faa1c489e9a90360e-0-2\" class=\"displacy-label\" startOffset=\"50%\" side=\"left\" fill=\"currentColor\" text-anchor=\"middle\">nsubj</textPath>\n",
       "    </text>\n",
       "    <path class=\"displacy-arrowhead\" d=\"M420,354.0 L412,342.0 428,342.0\" fill=\"currentColor\"/>\n",
       "</g>\n",
       "\n",
       "<g class=\"displacy-arrow\">\n",
       "    <path class=\"displacy-arc\" id=\"arrow-685019bf1ef74e7faa1c489e9a90360e-0-3\" stroke-width=\"2px\" d=\"M595,352.0 C595,264.5 735.0,264.5 735.0,352.0\" fill=\"none\" stroke=\"currentColor\"/>\n",
       "    <text dy=\"1.25em\" style=\"font-size: 0.8em; letter-spacing: 1px\">\n",
       "        <textPath xlink:href=\"#arrow-685019bf1ef74e7faa1c489e9a90360e-0-3\" class=\"displacy-label\" startOffset=\"50%\" side=\"left\" fill=\"currentColor\" text-anchor=\"middle\">compound</textPath>\n",
       "    </text>\n",
       "    <path class=\"displacy-arrowhead\" d=\"M595,354.0 L587,342.0 603,342.0\" fill=\"currentColor\"/>\n",
       "</g>\n",
       "\n",
       "<g class=\"displacy-arrow\">\n",
       "    <path class=\"displacy-arc\" id=\"arrow-685019bf1ef74e7faa1c489e9a90360e-0-4\" stroke-width=\"2px\" d=\"M770,352.0 C770,177.0 1090.0,177.0 1090.0,352.0\" fill=\"none\" stroke=\"currentColor\"/>\n",
       "    <text dy=\"1.25em\" style=\"font-size: 0.8em; letter-spacing: 1px\">\n",
       "        <textPath xlink:href=\"#arrow-685019bf1ef74e7faa1c489e9a90360e-0-4\" class=\"displacy-label\" startOffset=\"50%\" side=\"left\" fill=\"currentColor\" text-anchor=\"middle\">nsubj</textPath>\n",
       "    </text>\n",
       "    <path class=\"displacy-arrowhead\" d=\"M770,354.0 L762,342.0 778,342.0\" fill=\"currentColor\"/>\n",
       "</g>\n",
       "\n",
       "<g class=\"displacy-arrow\">\n",
       "    <path class=\"displacy-arc\" id=\"arrow-685019bf1ef74e7faa1c489e9a90360e-0-5\" stroke-width=\"2px\" d=\"M945,352.0 C945,264.5 1085.0,264.5 1085.0,352.0\" fill=\"none\" stroke=\"currentColor\"/>\n",
       "    <text dy=\"1.25em\" style=\"font-size: 0.8em; letter-spacing: 1px\">\n",
       "        <textPath xlink:href=\"#arrow-685019bf1ef74e7faa1c489e9a90360e-0-5\" class=\"displacy-label\" startOffset=\"50%\" side=\"left\" fill=\"currentColor\" text-anchor=\"middle\">aux</textPath>\n",
       "    </text>\n",
       "    <path class=\"displacy-arrowhead\" d=\"M945,354.0 L937,342.0 953,342.0\" fill=\"currentColor\"/>\n",
       "</g>\n",
       "\n",
       "<g class=\"displacy-arrow\">\n",
       "    <path class=\"displacy-arc\" id=\"arrow-685019bf1ef74e7faa1c489e9a90360e-0-6\" stroke-width=\"2px\" d=\"M1120,352.0 C1120,264.5 1260.0,264.5 1260.0,352.0\" fill=\"none\" stroke=\"currentColor\"/>\n",
       "    <text dy=\"1.25em\" style=\"font-size: 0.8em; letter-spacing: 1px\">\n",
       "        <textPath xlink:href=\"#arrow-685019bf1ef74e7faa1c489e9a90360e-0-6\" class=\"displacy-label\" startOffset=\"50%\" side=\"left\" fill=\"currentColor\" text-anchor=\"middle\">prep</textPath>\n",
       "    </text>\n",
       "    <path class=\"displacy-arrowhead\" d=\"M1260.0,354.0 L1268.0,342.0 1252.0,342.0\" fill=\"currentColor\"/>\n",
       "</g>\n",
       "\n",
       "<g class=\"displacy-arrow\">\n",
       "    <path class=\"displacy-arc\" id=\"arrow-685019bf1ef74e7faa1c489e9a90360e-0-7\" stroke-width=\"2px\" d=\"M1295,352.0 C1295,264.5 1435.0,264.5 1435.0,352.0\" fill=\"none\" stroke=\"currentColor\"/>\n",
       "    <text dy=\"1.25em\" style=\"font-size: 0.8em; letter-spacing: 1px\">\n",
       "        <textPath xlink:href=\"#arrow-685019bf1ef74e7faa1c489e9a90360e-0-7\" class=\"displacy-label\" startOffset=\"50%\" side=\"left\" fill=\"currentColor\" text-anchor=\"middle\">pcomp</textPath>\n",
       "    </text>\n",
       "    <path class=\"displacy-arrowhead\" d=\"M1435.0,354.0 L1443.0,342.0 1427.0,342.0\" fill=\"currentColor\"/>\n",
       "</g>\n",
       "\n",
       "<g class=\"displacy-arrow\">\n",
       "    <path class=\"displacy-arc\" id=\"arrow-685019bf1ef74e7faa1c489e9a90360e-0-8\" stroke-width=\"2px\" d=\"M1470,352.0 C1470,264.5 1610.0,264.5 1610.0,352.0\" fill=\"none\" stroke=\"currentColor\"/>\n",
       "    <text dy=\"1.25em\" style=\"font-size: 0.8em; letter-spacing: 1px\">\n",
       "        <textPath xlink:href=\"#arrow-685019bf1ef74e7faa1c489e9a90360e-0-8\" class=\"displacy-label\" startOffset=\"50%\" side=\"left\" fill=\"currentColor\" text-anchor=\"middle\">dobj</textPath>\n",
       "    </text>\n",
       "    <path class=\"displacy-arrowhead\" d=\"M1610.0,354.0 L1618.0,342.0 1602.0,342.0\" fill=\"currentColor\"/>\n",
       "</g>\n",
       "\n",
       "<g class=\"displacy-arrow\">\n",
       "    <path class=\"displacy-arc\" id=\"arrow-685019bf1ef74e7faa1c489e9a90360e-0-9\" stroke-width=\"2px\" d=\"M1120,352.0 C1120,2.0 1800.0,2.0 1800.0,352.0\" fill=\"none\" stroke=\"currentColor\"/>\n",
       "    <text dy=\"1.25em\" style=\"font-size: 0.8em; letter-spacing: 1px\">\n",
       "        <textPath xlink:href=\"#arrow-685019bf1ef74e7faa1c489e9a90360e-0-9\" class=\"displacy-label\" startOffset=\"50%\" side=\"left\" fill=\"currentColor\" text-anchor=\"middle\">dep</textPath>\n",
       "    </text>\n",
       "    <path class=\"displacy-arrowhead\" d=\"M1800.0,354.0 L1808.0,342.0 1792.0,342.0\" fill=\"currentColor\"/>\n",
       "</g>\n",
       "\n",
       "<g class=\"displacy-arrow\">\n",
       "    <path class=\"displacy-arc\" id=\"arrow-685019bf1ef74e7faa1c489e9a90360e-0-10\" stroke-width=\"2px\" d=\"M1820,352.0 C1820,264.5 1960.0,264.5 1960.0,352.0\" fill=\"none\" stroke=\"currentColor\"/>\n",
       "    <text dy=\"1.25em\" style=\"font-size: 0.8em; letter-spacing: 1px\">\n",
       "        <textPath xlink:href=\"#arrow-685019bf1ef74e7faa1c489e9a90360e-0-10\" class=\"displacy-label\" startOffset=\"50%\" side=\"left\" fill=\"currentColor\" text-anchor=\"middle\">prep</textPath>\n",
       "    </text>\n",
       "    <path class=\"displacy-arrowhead\" d=\"M1960.0,354.0 L1968.0,342.0 1952.0,342.0\" fill=\"currentColor\"/>\n",
       "</g>\n",
       "\n",
       "<g class=\"displacy-arrow\">\n",
       "    <path class=\"displacy-arc\" id=\"arrow-685019bf1ef74e7faa1c489e9a90360e-0-11\" stroke-width=\"2px\" d=\"M2170,352.0 C2170,177.0 2490.0,177.0 2490.0,352.0\" fill=\"none\" stroke=\"currentColor\"/>\n",
       "    <text dy=\"1.25em\" style=\"font-size: 0.8em; letter-spacing: 1px\">\n",
       "        <textPath xlink:href=\"#arrow-685019bf1ef74e7faa1c489e9a90360e-0-11\" class=\"displacy-label\" startOffset=\"50%\" side=\"left\" fill=\"currentColor\" text-anchor=\"middle\">quantmod</textPath>\n",
       "    </text>\n",
       "    <path class=\"displacy-arrowhead\" d=\"M2170,354.0 L2162,342.0 2178,342.0\" fill=\"currentColor\"/>\n",
       "</g>\n",
       "\n",
       "<g class=\"displacy-arrow\">\n",
       "    <path class=\"displacy-arc\" id=\"arrow-685019bf1ef74e7faa1c489e9a90360e-0-12\" stroke-width=\"2px\" d=\"M2345,352.0 C2345,264.5 2485.0,264.5 2485.0,352.0\" fill=\"none\" stroke=\"currentColor\"/>\n",
       "    <text dy=\"1.25em\" style=\"font-size: 0.8em; letter-spacing: 1px\">\n",
       "        <textPath xlink:href=\"#arrow-685019bf1ef74e7faa1c489e9a90360e-0-12\" class=\"displacy-label\" startOffset=\"50%\" side=\"left\" fill=\"currentColor\" text-anchor=\"middle\">compound</textPath>\n",
       "    </text>\n",
       "    <path class=\"displacy-arrowhead\" d=\"M2345,354.0 L2337,342.0 2353,342.0\" fill=\"currentColor\"/>\n",
       "</g>\n",
       "\n",
       "<g class=\"displacy-arrow\">\n",
       "    <path class=\"displacy-arc\" id=\"arrow-685019bf1ef74e7faa1c489e9a90360e-0-13\" stroke-width=\"2px\" d=\"M1995,352.0 C1995,89.5 2495.0,89.5 2495.0,352.0\" fill=\"none\" stroke=\"currentColor\"/>\n",
       "    <text dy=\"1.25em\" style=\"font-size: 0.8em; letter-spacing: 1px\">\n",
       "        <textPath xlink:href=\"#arrow-685019bf1ef74e7faa1c489e9a90360e-0-13\" class=\"displacy-label\" startOffset=\"50%\" side=\"left\" fill=\"currentColor\" text-anchor=\"middle\">pobj</textPath>\n",
       "    </text>\n",
       "    <path class=\"displacy-arrowhead\" d=\"M2495.0,354.0 L2503.0,342.0 2487.0,342.0\" fill=\"currentColor\"/>\n",
       "</g>\n",
       "</svg></span>"
      ],
      "text/plain": [
       "<IPython.core.display.HTML object>"
      ]
     },
     "metadata": {},
     "output_type": "display_data"
    }
   ],
   "source": [
    "# visualize dependencies\n",
    "spacy.displacy.render(doc, style=\"dep\")"
   ]
  },
  {
   "cell_type": "markdown",
   "metadata": {
    "slideshow": {
     "slide_type": "slide"
    }
   },
   "source": [
    "## Get linguistic features"
   ]
  },
  {
   "cell_type": "code",
   "execution_count": 5,
   "metadata": {
    "slideshow": {
     "slide_type": "-"
    }
   },
   "outputs": [
    {
     "name": "stdout",
     "output_type": "stream",
     "text": [
      "Apple --> Apple PROPN poss Xxxxx True False\n",
      "'s --> 's PART case 'x False True\n",
      "CEO --> CEO PROPN nsubj XXX True False\n",
      "Tim --> Tim PROPN compound Xxx True False\n",
      "Cook --> Cook PROPN nsubj Xxxx True False\n",
      "is --> be AUX aux xx True True\n",
      "looking --> look VERB ROOT xxxx True False\n",
      "at --> at ADP prep xx True True\n",
      "buying --> buy VERB pcomp xxxx True False\n",
      "U.K. --> U.K. PROPN dobj X.X. False False\n",
      "startup --> startup VERB dep xxxx True False\n",
      "for --> for ADP prep xxx True True\n",
      "$ --> $ SYM quantmod $ False False\n",
      "1 --> 1 NUM compound d False False\n",
      "billion --> billion NUM pobj xxxx True False\n",
      ". --> . PUNCT punct . False False\n"
     ]
    }
   ],
   "source": [
    "# iterate over tokens of a document\n",
    "for token in doc:\n",
    "    print(token.text, \"-->\", token.lemma_, token.pos_,\n",
    "            token.dep_, token.shape_, token.is_alpha, token.is_stop)"
   ]
  },
  {
   "cell_type": "markdown",
   "metadata": {
    "slideshow": {
     "slide_type": "slide"
    }
   },
   "source": [
    "## Named Entity Recognition (NER)"
   ]
  },
  {
   "cell_type": "code",
   "execution_count": 6,
   "metadata": {
    "slideshow": {
     "slide_type": "-"
    }
   },
   "outputs": [
    {
     "data": {
      "text/html": [
       "<span class=\"tex2jax_ignore\"><div class=\"entities\" style=\"line-height: 2.5; direction: ltr\">\n",
       "<mark class=\"entity\" style=\"background: #7aecec; padding: 0.45em 0.6em; margin: 0 0.25em; line-height: 1; border-radius: 0.35em;\">\n",
       "    Apple\n",
       "    <span style=\"font-size: 0.8em; font-weight: bold; line-height: 1; border-radius: 0.35em; vertical-align: middle; margin-left: 0.5rem\">ORG</span>\n",
       "</mark>\n",
       "'s CEO \n",
       "<mark class=\"entity\" style=\"background: #aa9cfc; padding: 0.45em 0.6em; margin: 0 0.25em; line-height: 1; border-radius: 0.35em;\">\n",
       "    Tim Cook\n",
       "    <span style=\"font-size: 0.8em; font-weight: bold; line-height: 1; border-radius: 0.35em; vertical-align: middle; margin-left: 0.5rem\">PERSON</span>\n",
       "</mark>\n",
       " is looking at buying \n",
       "<mark class=\"entity\" style=\"background: #feca74; padding: 0.45em 0.6em; margin: 0 0.25em; line-height: 1; border-radius: 0.35em;\">\n",
       "    U.K.\n",
       "    <span style=\"font-size: 0.8em; font-weight: bold; line-height: 1; border-radius: 0.35em; vertical-align: middle; margin-left: 0.5rem\">GPE</span>\n",
       "</mark>\n",
       " startup for \n",
       "<mark class=\"entity\" style=\"background: #e4e7d2; padding: 0.45em 0.6em; margin: 0 0.25em; line-height: 1; border-radius: 0.35em;\">\n",
       "    $1 billion\n",
       "    <span style=\"font-size: 0.8em; font-weight: bold; line-height: 1; border-radius: 0.35em; vertical-align: middle; margin-left: 0.5rem\">MONEY</span>\n",
       "</mark>\n",
       ".</div></span>"
      ],
      "text/plain": [
       "<IPython.core.display.HTML object>"
      ]
     },
     "metadata": {},
     "output_type": "display_data"
    }
   ],
   "source": [
    "# visualize named entities\n",
    "spacy.displacy.render(doc, style=\"ent\")"
   ]
  },
  {
   "cell_type": "code",
   "execution_count": 7,
   "metadata": {
    "slideshow": {
     "slide_type": "fragment"
    }
   },
   "outputs": [
    {
     "name": "stdout",
     "output_type": "stream",
     "text": [
      "Apple --> ORG (Companies, agencies, institutions, etc.)\n",
      "Tim Cook --> PERSON (People, including fictional)\n",
      "U.K. --> GPE (Countries, cities, states)\n",
      "$1 billion --> MONEY (Monetary values, including unit)\n"
     ]
    }
   ],
   "source": [
    "# iterate over named entities of a document\n",
    "for ent in doc.ents:\n",
    "    print(f\"{ent.text} --> {ent.label_} ({spacy.explain(ent.label_)})\" )"
   ]
  },
  {
   "cell_type": "markdown",
   "metadata": {
    "slideshow": {
     "slide_type": "slide"
    }
   },
   "source": [
    "## Read from a file"
   ]
  },
  {
   "cell_type": "code",
   "execution_count": 8,
   "metadata": {
    "slideshow": {
     "slide_type": "-"
    }
   },
   "outputs": [
    {
     "name": "stdout",
     "output_type": "stream",
     "text": [
      "Programm der Sozialdemokratischen Partei der\n",
      "Schweiz\n",
      "(Angenommen durch den Parteitag vom 10./12. Dezember 1920 in Bern.)\n",
      "\n",
      "Prinzipienerklärung.\n",
      "Das Endziel der Sozialdemokratie bildet eine Gesellschaft\n"
     ]
    }
   ],
   "source": [
    "# alternatively, read from a single txt file \n",
    "f_text = '../data/swiss_party_programmes/txt/sp_programmes/1920_parteiprogramm_d.txt'\n",
    "text = textacy.io.read_text(f_text)\n",
    "\n",
    "# show content\n",
    "# special generator syntax as text is read just-in-time (stream individual lines)\n",
    "print(next(text)[:200])"
   ]
  },
  {
   "cell_type": "markdown",
   "metadata": {
    "slideshow": {
     "slide_type": "slide"
    }
   },
   "source": [
    "# Working with a Corpus"
   ]
  },
  {
   "cell_type": "markdown",
   "metadata": {
    "slideshow": {
     "slide_type": "slide"
    }
   },
   "source": [
    "## Steps to create a Corpus\n",
    "\n",
    "How to make a corpus from many text files?\n",
    "\n",
    "1. list all files of a folder \n",
    "2. read text from each file\n",
    "3. parse metadata from file name\n",
    "4. return each document sequentially\n",
    "\n",
    "&rarr; wrap all this in a function `get_texts()`"
   ]
  },
  {
   "cell_type": "markdown",
   "metadata": {
    "slideshow": {
     "slide_type": "slide"
    }
   },
   "source": [
    "## Define Function"
   ]
  },
  {
   "cell_type": "code",
   "execution_count": 9,
   "metadata": {
    "slideshow": {
     "slide_type": "-"
    }
   },
   "outputs": [],
   "source": [
    "def get_texts(dir_texts):\n",
    "    \"\"\"\n",
    "    Sequentially stream all documents from a given folder, including metadata.\n",
    "    \"\"\"\n",
    "    p = Path(dir_texts) # set base directory\n",
    "    \n",
    "    # iterate over all documents in base directory\n",
    "    for fname in p.glob('**/*.txt'):\n",
    "        \n",
    "        print('Parsing file:', fname.name)\n",
    "        \n",
    "        text = next(textacy.io.text.read_text(fname))\n",
    "        # join lines as there are hard line-breaks\n",
    "        text = text.replace('\\n', ' ')\n",
    "        # further modify the text here if needed\n",
    "\n",
    "        # parse year from filename and set a metadata\n",
    "        # example: 1920_parteiprogramm_d.txt --> year=1920\n",
    "        try:\n",
    "            year = int(fname.name.split('_')[0])\n",
    "        except ValueError:\n",
    "            print('WARNING: Parsing meta data has failed:', fname.name)\n",
    "            continue\n",
    "\n",
    "        # add more metadata here if needed\n",
    "        metadata = {'fname': fname.name, 'year': year}\n",
    "        \n",
    "        # return documents one after another (sequentially)\n",
    "        yield (text, metadata)"
   ]
  },
  {
   "cell_type": "markdown",
   "metadata": {
    "slideshow": {
     "slide_type": "slide"
    }
   },
   "source": [
    "## Create a Corpus from TXT\n",
    "Process documents and create corpus"
   ]
  },
  {
   "cell_type": "code",
   "execution_count": 10,
   "metadata": {
    "slideshow": {
     "slide_type": "-"
    }
   },
   "outputs": [
    {
     "name": "stdout",
     "output_type": "stream",
     "text": [
      "Parsing file: 1920_parteiprogramm_d.txt\n",
      "Parsing file: 1982_parteiprogramm_d_0.txt\n",
      "Parsing file: 1888_parteiprogramm_d_0.txt\n",
      "Parsing file: sp-parteiprogramm_definitiv-de_0.txt\n",
      "WARNING: Parsing meta data has failed: sp-parteiprogramm_definitiv-de_0.txt\n",
      "Parsing file: 1904_parteiprogramm_d_0.txt\n",
      "Parsing file: 1959_parteiprogramm_d_0.txt\n",
      "Parsing file: 1870_parteiprogramm_d_0.txt\n",
      "Parsing file: 1935_parteiprogramm_d_0.txt\n"
     ]
    }
   ],
   "source": [
    "# stream texts from a given folder\n",
    "dir_texts = '../data/swiss_party_programmes/txt/sp_programmes/'\n",
    "texts = get_texts(dir_texts)\n",
    "\n",
    "# load German language model\n",
    "de = textacy.load_spacy_lang(\"de_core_news_sm\")\n",
    "\n",
    "# create corpus from processed documents\n",
    "corpus = textacy.Corpus(de, data=texts)"
   ]
  },
  {
   "cell_type": "markdown",
   "metadata": {
    "slideshow": {
     "slide_type": "slide"
    }
   },
   "source": [
    "# Basic Corpus Statistics"
   ]
  },
  {
   "cell_type": "code",
   "execution_count": 11,
   "metadata": {
    "slideshow": {
     "slide_type": "-"
    }
   },
   "outputs": [
    {
     "name": "stdout",
     "output_type": "stream",
     "text": [
      "# documents: 7\n",
      "# sentences: 2855\n",
      "# tokens: 45360\n"
     ]
    }
   ],
   "source": [
    "print('# documents:', corpus.n_docs)\n",
    "print('# sentences:', corpus.n_sents)\n",
    "print('# tokens:', corpus.n_tokens)"
   ]
  },
  {
   "cell_type": "markdown",
   "metadata": {
    "slideshow": {
     "slide_type": "slide"
    }
   },
   "source": [
    "## Export Word Counts"
   ]
  },
  {
   "cell_type": "code",
   "execution_count": 12,
   "metadata": {
    "slideshow": {
     "slide_type": "-"
    }
   },
   "outputs": [
    {
     "data": {
      "text/plain": [
       "[('menschen', 112),\n",
       " ('partei', 101),\n",
       " ('demokratie', 94),\n",
       " ('entwicklung', 92),\n",
       " ('staat', 92)]"
      ]
     },
     "execution_count": 12,
     "metadata": {},
     "output_type": "execute_result"
    }
   ],
   "source": [
    "# get lowercased and filtered corpus vocabulary\n",
    "vocab = corpus.word_counts(by= 'lower_', weighting='count', filter_stops = True, filter_punct = True, filter_nums = True)\n",
    "\n",
    "# sort vocabulary by descending frequency\n",
    "vocab_sorted = sorted(vocab.items(), key=lambda x: x[1], reverse=True)\n",
    "\n",
    "# write to file, one word and its frequency per line\n",
    "fname = '../analysis/vocab_frq.txt'\n",
    "with open(fname, 'w') as f:   \n",
    "    for word, frq in vocab_sorted:\n",
    "        line = f\"{word}\\t{frq}\\n\"\n",
    "        f.write(line)\n",
    "\n",
    "vocab_sorted[:5]"
   ]
  },
  {
   "cell_type": "markdown",
   "metadata": {
    "slideshow": {
     "slide_type": "slide"
    }
   },
   "source": [
    "# Working with Subcorpus\n",
    "\n",
    "Interested in a group of documents only?"
   ]
  },
  {
   "cell_type": "code",
   "execution_count": 13,
   "metadata": {
    "slideshow": {
     "slide_type": "-"
    }
   },
   "outputs": [
    {
     "data": {
      "text/plain": [
       "{'fname': '1920_parteiprogramm_d.txt', 'year': 1920}"
      ]
     },
     "execution_count": 13,
     "metadata": {},
     "output_type": "execute_result"
    }
   ],
   "source": [
    "# select the first document in corpus\n",
    "first_doc = corpus[0]\n",
    "first_doc._.meta"
   ]
  },
  {
   "cell_type": "code",
   "execution_count": 14,
   "metadata": {
    "slideshow": {
     "slide_type": "fragment"
    }
   },
   "outputs": [
    {
     "data": {
      "text/plain": [
       "(5, 7)"
      ]
     },
     "execution_count": 14,
     "metadata": {},
     "output_type": "execute_result"
    }
   ],
   "source": [
    "# function to filter by metadata, e.g. publication year after 1900\n",
    "def filter_func(doc):\n",
    "    return doc._.meta.get(\"year\") > 1900\n",
    "\n",
    "# create new corpus after applying filter function\n",
    "subcorpus = textacy.corpus.Corpus(de, data=corpus.get(filter_func))\n",
    "\n",
    "subcorpus.n_docs, corpus.n_docs"
   ]
  },
  {
   "cell_type": "markdown",
   "metadata": {
    "slideshow": {
     "slide_type": "slide"
    }
   },
   "source": [
    "# Key Word in Context (KWIC)\n",
    "\n",
    "show words in their original context"
   ]
  },
  {
   "cell_type": "code",
   "execution_count": 15,
   "metadata": {},
   "outputs": [
    {
     "name": "stdout",
     "output_type": "stream",
     "text": [
      "wärts beziehen und für seine Industrieprodukte im   Ausland   Absatz suchen muss, deshalb von allen Schwankunge\n",
      " Unterstützung von in Not geratenen Schweizern im   Ausland  . Unterstützung und Förderung aller Bestrebungen, \n",
      "eaktion, weil die Schweiz in mancher Hinsicht vom   Ausland   abhängig und weltweiten Zwängen ausgesetzt ist. U\n",
      "eren multinational. Produktionsstätten werden ins   Ausland   verlagert und einheimische Betriebe von multinati\n",
      "chränkungen. Die Schweiz ist nicht nur selbst vom   Ausland   abhängig, sie schafft auch Abhängigkeiten. Wie an\n",
      "ine Beschränkung der Futtermittel-lmporte aus dem   Ausland  .  39  (26) Landwirtschaftspolitik  ❑ Die Einkomme\n",
      "piel einer wirksamen Massnahme. 2. Das Risiko der   Ausland  abhängigkeit der Energieversorgung soll reduziert \n",
      " der Radioaktivität eine untragbare Hypothek, die   Ausland  abhängigkeit (Uran) enorm und die Sicherheit (Unfa\n",
      "te und landwirtschaftlichen Erzeugnisse Absatz im   Ausland  e suchen muss und deshalb von allen Schwankungen u\n",
      "Interesse stabiler Wirtschaftsbeziehungen mit dem   Ausland   sind feste Wechselkurse erwünscht; doch darf das \n",
      "haft ist so zu regeln, dass die zur Ergänzung der   Inland  produktion notwendige Einfuhr nicht verteuert wird\n",
      "und wichtigen landwirtschaftlichen Erzeugnisse im   Ausland   Absatz suchen. Aus diesem Grunde wird die schweiz\n",
      "egung hat durch die Entwicklung des Faschismus im   Ausland   ihren Auftrieb erhalten. Durch das Aufkommen des \n",
      "ndere die Steigerung des Exportes, der Ausbau der   Inland  industrie, die Entschuldung der Landwirtschaft sow\n",
      "iche Führung des gesamten Kapitalverkehrs mit dem   Ausland   unter Eingliederung des Kapitalexportes in die st\n",
      "häfte;  c)  Verbot der selbständigen Tätigung des   Ausland  geschäftes;  d)  Schaffung eines Überwachungs- und\n",
      "nrechnung;  d)  einheitliche Verkaufstätigkeit im   Ausland  ;  e)  Schaffung technisch-wissenschaftlicher Fors\n",
      " wird der Absatz landwirtschaftlicher Produkte im   Inland   erhöht. Die Aussenhandelspolitik und der Kapitale\n",
      "tsetzung der Preise und die Propaganda im In- und   Ausland  e.  VIII. Schutz der Arbeit. Zur Sicherung der Leb\n",
      "Sicherheit der schweizerischen Kapitalguthaben im   Ausland   es erfordern. Nach Anerkennung der Union der Sozi\n"
     ]
    }
   ],
   "source": [
    "# iterate over documents and print matches\n",
    "# you can use regular expressions as keyword\n",
    "for doc in corpus:\n",
    "    results = textacy.extract.kwic.keyword_in_context(doc.text, keyword = '(Ausland|Inland)', ignore_case = True, window_width = 50)\n",
    "    for match in results:\n",
    "        print(f\"{match[0]}  {match[1]}  {match[2]}\")"
   ]
  },
  {
   "cell_type": "markdown",
   "metadata": {
    "slideshow": {
     "slide_type": "slide"
    }
   },
   "source": [
    "# Export Results to TXT File\n",
    "\n",
    "collect any information and write to file\n",
    "- particular terms\n",
    "- Named Entities (NE)\n",
    "- linguistic constructions\n",
    "- ..."
   ]
  },
  {
   "cell_type": "code",
   "execution_count": 16,
   "metadata": {
    "slideshow": {
     "slide_type": "-"
    }
   },
   "outputs": [
    {
     "name": "stdout",
     "output_type": "stream",
     "text": [
      "1920_parteiprogramm_d.txt\tDurch die Befriedigung der Bedürfnisse aller Arbeitenden und die Fürsorge der Gesellschaft für alle Arbeitsunfähigen werden Armut und Not, Verbrechen und Prostitution, die in den Zuständen des Kapitalismus ihren Nährboden fanden, als gesellschaftliche Erscheinung verschwinden.\n"
     ]
    }
   ],
   "source": [
    "results = []\n",
    "\n",
    "# collect information\n",
    "for doc in corpus:\n",
    "    for sent in doc.sents:\n",
    "        if 'Armut' in sent.text:\n",
    "            # match contains the sentence where the term occurs, preceded by the filename (tab-separated)\n",
    "            match = f\"{doc._.meta['fname']}\\t{sent.text}\"\n",
    "            results.append(match)\n",
    "\n",
    "# write information to file\n",
    "fname = '../analysis/sents_poverty.txt'\n",
    "with open(fname, 'w') as f:\n",
    "    f.write('\\n'.join(results))\n",
    "\n",
    "print(results[0])"
   ]
  },
  {
   "cell_type": "markdown",
   "metadata": {
    "slideshow": {
     "slide_type": "slide"
    }
   },
   "source": [
    "# Export Corpus as CSV Dataset\n",
    "We have created a corpus containing all party programmes. Now, let's save it as csv dataset."
   ]
  },
  {
   "cell_type": "code",
   "execution_count": 17,
   "metadata": {
    "slideshow": {
     "slide_type": "-"
    }
   },
   "outputs": [
    {
     "data": {
      "text/plain": [
       "{'fname': '1920_parteiprogramm_d.txt',\n",
       " 'year': 1920,\n",
       " 'text': 'Programm der Sozialdemokratischen Partei der Schweiz (Angenommen durch den Parteitag vom 10./12. Dezember 1920 in Bern.)  Prinzipienerklärung. Das Endziel der Sozialdemokratie bildet eine Gesellschaftsordnung, die durch die Beseitigung jeder Art von Ausbeutung das Volk von Elend und Sorge befreit, Wohlstand und Unabhängigkeit sichert und damit die Grundlage schafft, auf der die Persönlichkeit sich frei und harmonisch entfalten und das ganze Volk zu höheren Kulturstufen aufsteigen kann. Das durch die wirtschaftliche Entwicklung selbst gegebene Mittel hierzu erblickt die Sozialdemokratie in der Überführung der Produktionsmittel aus dem Privatbesitz in den Besitz der Gesellschaft und in Ersetzung der kapitalistischen Wirtschaftsordnung durch eine Gemeinwirtschaft auf demokratischer Grundlage. Unter den heutigen Verhältnissen vollzieht sich die Tätigkeit der Sozialdemokratie in der Form des Klassenkampfes. Während aber die Klassenkämpfe des Bürgertums die Festigung und Erweiterung seiner Klassenvorrechte zum Ziele haben, ringt die Arbeiterschaft um die Beseitigung jeder Klassenherrschaft und jeder Ausbeutung. Deshalb besteht das letzte Ziel des proletarischen Klassenkampfes in der Wohlfahrt und der gesicherten Zukunft des ganzen Volkes. Diese Grundsätze stützen sich auf folgende  Erwägungen: I. Die bürgerliche Gesellschaft. Die kapitalistische Produktion. Die Schweiz hat im letzten Jahrhundert tiefgreifende Wandlungen durchgemacht, durch welche die Grundlagen ihrer wirtschaftlichen und nationalen Existenz völlig revolutionäre worden sind. Die wirtschaftliche Entwicklung verwandelte die Schweiz aus einem bäuerlichkleinbürgerlichen Gemeinwesen in ein Industrieland, das seine Rohstoffe und einen grossen Teil der notwendigen Lebensmittel von auswärts beziehen und für seine Industrieprodukte im Ausland Absatz suchen muss, deshalb von allen Schwankungen und Erschütterungen des Weltmarktes mitbetroffen wird. Der Sieg der Maschine über das einfache Werkzeug und der Sieg des Grossbetriebes über Handwerk und Kleinbetriebe führte zu weitgehender Industrialisierung des ganzen Landes. Darauf beruht der unaufhaltsame Zerfall des alten Mittelstandes und das Anwachsen des industriellen Proletariats, das aus den Reihen der durch den Kapitalismus ruinierten Handwerker und Kleinbauern stets neuen Zuzug erhält. Die Trennung des Arbeiters von den Produktionsmitteln – Arbeitsstätten, Maschinen, Rohstoffen – und die Monopolisierung der letzteren in den Händen der Kapitalisten macht den Arbeiter zum Gegenstand der Ausbeutung,  2 indem sie es dem Unternehmer ermöglicht, sich fremde unbezahlte Arbeit anzueignen. Je mehr es aber gelingt, durch die Beherrschung der Naturkräfte, durch Verbesserung der Maschinen und der Arbeitsmethoden die Ergiebigkeit der menschlichen Arbeit zu steigern, desto grösser wird die Zahl der Besitzlosen, desto drückender ihre Abhängigkeit und die Unsicherheit ihrer Existenz, desto übler ihre Lage im Verhältnis zum gesellschaftlichen Reichtum. Die Vorteile des wirtschaftlichen Fortschrittes kommen vorwiegend den Besitzern der Produktionsmittel zugute. In den Händen weniger häufen sich Riesengewinne. Der Arbeiter aber, dessen Tätigkeit die Hauptquelle des gesellschaftlichen Reichtums bildet, hat den geringsten Anteil an seiner Steigerung. So befindet sich ein grosser Teil des Schweizervolkes in gedrücktester Lage und grösster Abhängigkeit. Während ehrliche Arbeit nicht mehr vor Not zu schützen vermag, häufen und vermehren sich die arbeitslosen Einkommen. Zehntausende, ruhelos umhergetrieben, haben keine Heimat mehr und keinen Herd Der Kampf ums Dasein wird mit steigender Erbitterung geführt. Aber trotz verzweifelten Widerstandes versinken unter dem Einfluss der Teuerung und der Wirtschaftspolitik des kapitalistischen Staates immer neue Schichten ins Proletariat, das damit zur weitaus zahlreichsten Volksklasse wird. In der Landwirtschaft ist die wirtschaftliche Überlegenheit des mit allen Errungenschaften der Technik arbeitenden Gross- und Mittelbetriebes über den Klein- und Zwergbetrieb nachgewiesen. Starke Bodenparzellierung und rückständige Betriebsweise, Mangel an Maschinen und ungenügende Verwendung elektrischer Kraft verunmöglichen trotz Überanstrengung der physischen Kräfte eine Prosperität. Der Übergang von der Naturalwirtschaft zur Geldwirtschaft, der Einfluss der ausländischen Konkurrenz, das blinde Vertrauen auf den Nutzen schutzzöllnerischer Mittel und die daraus entstandene Unfähigkeit, durch genossenschaftlichen Zusammenschluss und die Wahl der geeignetsten Betriebsweise dieser Konkurrenz zu begegnen, und die schweren Erschütterungen der Weltwirtschaft haben zu grossen Preisschwankungen und einer unsicheren Gestaltung der Bodenpreise und des Hypothekarkredites geführt und den wenig besitzenden Bauern der Krise und all ihren verderblichen Folgen ausgesetzt. So versinkt auch ein Teil des Bauernstandes, dessen Bevölkerungsüberschuss sich fortgesetzt den Städten zuwendet, im Industrieproletariat. Ein anderer Teil der Kleinbauern kann nur durch die Verbindung des landwirtschaftlichen Betriebes mit industrieller Lohnarbeit weiter existieren. Mit der kapitalistischen Wirtschaft untrennbar verbunden ist die Planlosigkeit und Anarchie der Produktion. Die besitzende Klasse hat die Herrschaft über die Produktionsmittel verloren, sie sind ihr über den Kopf gewachsen. Jeder einzelne Kapitalist steht unter dem von der Konkurrenz diktierten Zwangsgebot, stets auf die Verbilligung seines Produktes und die Erweiterung seines Absatzes bedacht zu sein und seinen Konkurrenten zu schlagen, um nicht von ihm geschlagen zu werden. Da aber diese fieberhafte wirtschaftliche Tätigkeit die Erzielung von Profit zum Zwecke hat, ohne Rücksicht auf den gesellschaftlichen Bedarf, so führt sie mit Notwendigkeit zur Überproduktion und zu periodischen Krisen, welche die ganze Wirtschaft erschüttern, am schwersten aber mit der furchtbaren Geissel der Arbeitslosigkeit die Arbeiterschaft schädigen. Wo das Unternehmertum versucht, diese Herrschaft über die Produktionsmittel durch Kartelle, Syndikate oder Truste zurückzugewinnen, führt sie einerseits zur preissteigernden Wirkung von Privatmonopolen, anderseits zu einer durch die riesigen Machtmittel gesteigerten Unterdrückung und Ausbeutung der Arbeiter.  3  Die bürgerliche Demokratie. Die wirtschaftliche Umwälzung, die das Aufkommen der kapitalistischen Produktionsweise bedeutete, führte auch zu neuen politischen Formen. Im Laufe oft blutiger Klassenkämpfe gegen Aristokratie und Zunftherrschaft schuf sich das Bürgertum den modernen bürgerlichen Staat, der in den meisten Ländern, in der Schweiz insbesondere, die formale Gleichberechtigung der Bürger vor dem Gesetz verwirklichte und parlamentarisch-demokratische Einrichtungen mit sich brachte Das Entwicklungsbedürfnis von Handel und Verkehr, das um die Mitte des 19. Jahrhunderts zur Bildung einer Reihe von Grosstaaten führte, schuf sich in der Schweiz im Sonderbundskrieg den Bundesstaat. Durch die demokratischen Einrichtungen wurde der Klassengegensatz zwischen Bourgeoisie und Proletariat keineswegs aufgehoben oder auch nur gemildert, vielmehr entfaltet und blossgelegt, wenn schon versucht wird, ihn durch Ableugnung des Klassencharakters dieser Einrichtungen zu verschleiern. Der bürgerliche Staat ist und bleibt auch in seiner demokratischen Form und trotz dieser ein Unterdrückungsapparat der Bourgeoisie gegenüber dem Proletariat. Die innere und auswärtige Politik des Staates dient den Klasseninteressen der Bourgeoisie, der Ausübung, Erweiterung und Verteidigung ihrer Herrschaft. Die Verwaltung befindet sich fast ausschliesslich in ihren Händen, das Heer wird zur Unterdrückung des Proletariats gebraucht. Die Beherrschung des Regierungsapparates, der Volksschule und aller höheren Bildungsanstalten, ferner fast der gesamten Presse, der Kirche und das Privilegium einer im allgemeinen besseren Bildung verleiht der Bourgeoisie neben den ökonomischen auch eine ungeheure geistige Übermacht, die dem Proletariat die Befreiung von bürgerlicher Tradition und Bevormundung in hohem Masse erschwert und ihm die volle Ausnutzung der bürgerlichen Freiheiten und Rechte nicht entfernt ermöglicht. Zudem zögert die Bourgeoisie keinen Augenblick, die Gesetze des bürgerlichen Staates- zu verletzen und die Freiheiten, derer sie selbst zur Entfaltung der kapitalistischen Produktionskräfte bedurfte, aufzuheben oder durch die skrupellose Anwendung der Regierungs- und Militärgewalt illusorisch zu machen, sobald sie ihre Klassenherrschaft bedroht glaubt. Die bürgerliche Demokratie, die wohl einzelne soziale Reformen, einzelne Verbesserungen der Lage der Arbeiterklasse durchführen kann, ist nicht gewillt und auch ausserstande, an den ökonomischen Grundlagen des Staates zu rütteln, das Lohnverhältnis und die Klassenherrschaft der Bourgeoisie zu beseitigen.  Der Imperialismus. Die riesenhafte Entfaltung der kapitalistischen Produktivkräfte gegen das Ende des 19 Jahrhunderts liess das Kapital über die nationalen Grenzen hinausschweifen und führte zum Konkurrenzkampf der Bourgeoisien der Grossmächte um Absatzgebiet und Kolonien, der seine höchste Steigerung im imperialistischen Weltkrieg fand. Die Zustände der bürgerlichen Gesellschaft haben dadurch eine ungeheure Verschärfung erfahren. Die sozialen Errungenschaften der Arbeiterklasse werden durch die hohen Warenpreise und die mit ihnen verbundenen Folgen bedroht und zum Teil vernichtet. Jede Verkürzung der Arbeitszeit, jede Lohnsteigerung wird vom kapitalistischen Unternehmer zu neuen Preisaufschlägen benutzt, trotzdem die fortschreitende Technik und die Rationalisierung der Produktion eine Erhöhung der Löhne und eine Verminderung der Arbeitszeit erlauben würde.  4 Diese unvermeidliche Wechselwirkung steigert die Schwierigkeiten des Lebensunterhaltes, häuft Entbehrung, Not und Elend des industriellen und gewerblichen Arbeiters wie des Angestellten und Beamten, des Kleinbauern wie des Angehörigen des Mittelstandes Sie führt in ihrem weitern Verlauf notwendig zur Lähmung und schliesslichen Stockung der Produktion. Weil aber die industrielle, gewerbliche und landwirtschaftliche Produktion sich nach der Kaufkraft der Konsumenten richtet, so hemmen diese Wirkungen die Erzeugung der für die Lebenshaltung der breiten Massen unerlässlichen Gebrauchsgüter. Am Rande des durch den Krieg beschleunigten finanziellen Zusammenbruchs erweist sich der bürgerliche Staat als unfähig die an ihn gestellten sozialen Forderungen zu befriedigen. Die Kosten seiner sozialen Reformen, durch die er den Zusammenbruch aufzuhalten strebt, fallen wieder auf die ausgebeuteten Volksschichten, sei es durch die unmittelbare Belastung mit Steuern und Abgaben, sei es durch die Überwälzung der den kapitalistischen Produzenten überbundenen Leistungen auf die Warenpreise. Eine planmässige Beschränkung bis zur endlichen Aufhebung des Kapitalprofits und des Ausbeutungsverhältnisses zwischen Bourgeois und Proletarier aber kann der kapitalistische Staat nicht durchführen, weil er sonst die Grundlagen des eigenen Daseins angreifen und aufheben müsste. So vermag der kapitalistische Staat dem Arbeiter weder ein ausreichendes Existenzminimum noch befriedigendes Obdach, weder sichere Arbeitsgelegenheit noch genügende Fürsorge auf die Tage der Krankheit, der Invalidität und des Alters zu verschaffen, geschweige denn, ihn aus der Lohnsklaverei zu befreien. Wie der heutige schweizerische Staat im Innern das Werkzeug der ihn beherrschenden kapitalistischen Klasse ist, so ist er in seinen auswärtigen Beziehungen Anhängsel und Werkzeug der imperialistischen Grossmächte. Wo das bürgerliche Klasseninteresse durch den der Arbeiterschaft aufgezwungenen revolutionären Kampf bedroht erscheint, liefert sich der kapitalistische Kleinstaat den Grossmächten freiwillig aus und verbündet sich mit der internationalen Bourgeoisie gegen die eigenen Angehörigen, deren Schutz sein angeblicher Zweck ist. Im übrigen aber bleiben seine Selbständigkeit, Unabhängigkeit und Neutralität nur so weit gewahrt, als sie mit den Interessen der Grossmächte vereinbar sind. Erschwerung der Handelsbeziehungen, ökonomischer Boykott und politische Repressalien sind die Mittel, um den Kleinstaat dem Willen seiner kapitalistischen Widersacher gefügiger zu machen. Diese Entwicklung tritt immer klarer zutage, je mehr der imperialistische Konkurrenzkampf der Bourgeoisie hinter dem Weltkampf zwischen Bourgeoisie und Proletariat zurücktritt.  II. Der Weg zum Sozialismus. Der Kampf des Proletariats im bürgerlichen Staat. Die wirtschaftliche Notlage und Unterdrückung im kapitalistischen Staat und die Erkenntnis von der historischen Notwendigkeit seiner Beseitigung haben das Proletariat zur politischen und gewerkschaftlichen Organisation und zum steten politischen und gewerkschaftlichen Kampf gegen die Bourgeoisie geführt. Dieser Kampf erstrebt innerhalb des bürgerlichen Staates die Hebung der Lage des Proletariats und die Erhaltung und Erweiterung der bürgerlichen Rechte und Freiheiten, lässt aber nie das sozialistische Endziel aus den Augen, das nur durch die Aufhebung des bürgerlichen Staates verwirklicht werden kann. Die sozialistische Partei wird niemals um augenblicklicher Vorteile willen Wege beschreiten, die ihre  5 Aktionsfähigkeit im Klassenkampf lähmen und dadurch die Verwirklichung des Sozialismus verzögern und gefährden könnten. Der Kampf des Proletariats wird gemäss dem Charakter der Arbeiterbewegung als einer Massenbewegung unter Ablehnung von Einzelaktionen und Putschen durch das Mittel der Massenaktion, Demonstration und politischen Streike geführt. Die parlamentarische Tätigkeit, die Wahl- und Abstimmungskämpfe, die Benützung des Initiativrechtes und des Referendums sowie die politischen Streike stehen im Dienste der revolutionären sozialistischen Propaganda und Aktion. Nur Verkennung der Bedingungen und Voraussetzungen des proletarischen Klassenkampfes könnte diese Kampfmittel unterschätzen und missachten. Soziale Reformen beseitigen den Kapitalismus nicht. Aber insofern sie zum Ausgangspunkt proletarischer Kämpfe werden, neue Massen der politischen Erweckung zuführen und zur Teilnahme an diesen Kämpfen bewegen, sind sie ein unentbehrliches Mittel der politischen Aufklärung und Erziehung. Die politische Aufklärung über das Wesen der kapitalistischen Gesellschaft und die Notwendigkeit und Erreichbarkeit des sozialistischen Endzieles ist die vornehmste Aufgabe der politischen Arbeiterpartei. Der politische Kampf der Arbeiterklasse findet seine notwendige Ergänzung im gewerkschaftlichen Kampf. Die gewerkschaftliche Organisation will die Arbeiter befähigen, alle wirtschaftlichen Möglichkeiten innerhalb der kapitalistischen Produktion auszunutzen, sich gegen Bedrückung und Verelendung zu wehren, die Wirkungen der Krisen herabzumindern und mitbestimmend in die Regelung des Arbeitsvertrages und der Produktion einzugreifen. Durch die genossenschaftliche Organisation der Erzeugung und Verteilung von Produkten sucht die Arbeiterklasse Einfluss auf die Preisgestaltung der Bedarfsgegenstände zu gewinnen und den Handelszwischengewinn zu verkleinern. Die Genossenschaften werden im proletarischen Staat die Organe der gesamten Güterverteilung sein. Schon innerhalb der bürgerlichen Gesellschaft tritt das Proletariat für die Verstaatlichung und Kommunalisierung der hierzu geeigneten Produktionsmittel ein. Dieser Prozess bedeutet nicht eine Aufhebung der kapitalistischen Produktion, sondern vielmehr ihre höchste Konzentration, welche die künftige Übernahme der Produktionsmittel durch den proletarischen Staat erleichtert und insofern hilft, den Sozialismus vorzubereiten. Seine volle Bedeutung aber erhält der Kampf des Proletariats um die Staatsmacht erst durch das Zusammenwirken seiner politischen und ökonomischen Organisationen. In der einheitlichen Zusammenfassung und Erweiterung des Klassenkampfes, entwickelt und gesteigert durch Demonstrationen und Massenstreike wie durch die vereinigten Anstrengungen des revolutionären Weltproletariats, erlangt die Arbeiterklasse in wechselvollem, von Sieg und Niederlage begleitetem Ringen die Kraft zur Überwindung der kapitalistischen Herrschaft.  Die Eroberung der politischen Macht. Durch das stete Anwachsen der kapitalistischen Produktivkräfte, das durch die Erzeugung von Überproduktion und Krisen, namentlich aber von ungeheuren imperialistischen Konflikten aus einem einstigen Mittel des gesellschaftlichen Fortschritts zu seiner schwersten Gefährdung geworden ist, wird der Zusammenbruch des Kapitalismus und Aufbau des Sozialismus zur historischen  6 Notwendigkeit.Die geschichtliche Erfahrung lehrt uns, dass auch die Eroberung der politischen Macht durch das Proletariat auf den erbitterten Widerstand der besitzenden Klasse stossen wird, die sich ihre Macht und ihr Vorrecht der kapitalistischen Ausbeutung nicht entreissen lassen will. Die Eroberung der politischen Macht ist das nächste Ziel der Arbeiterklasse. Sie wird voraussichtlich nicht auf den ersten Ansturm, sondern erst nach langen, schweren, wechselvollen Kämpfen verwirklicht werden, in deren Verlauf das Proletariat die Kraft und Reife zur Überwindung der kapitalistischen Herrschaft erwirbt. Dabei ist sich das Proletariat dessen bewusst, dass man mit Gewalt keine neue Gesellschaft aufbaut, dass die aufbauenden Kräfte in der Arbeit und ihrer Organisation entwickelt werden müssen, und dass deshalb Gewalt nur dazu dienen kann, der gewaltsam gehinderten ökonomischen Entwicklung freie Bahn zu schaffen und gewaltsame Angriffe auf eine neue Organisationsform der Gesellschaft abzuwehren. Das zur herrschenden Klasse erhobene Proletariat muss zunächst die Banken und die kapitalistischen Grossbetriebe in den Dienst der neuen sozialistischen Organisation stellen, die die anarchische Profitwirtschaft des Kapitalismus durch die nach einheitlichem Plane geleitete Produktion und Verteilung der für die Gesellschaft notwendigen Güter ersetzt. Auch die Betriebe, die vom Proletariat nicht sogleich übernommen, sondern erst allmählich in diese Organisation einbezogen werden können, die industriellen und landwirtschaftlichen Mittel- und Kleinbetriebe, müssen einem einheitlichen Wirtschaftsplan untergeordnet werden Mit dem Streben nach der grösstmöglichen Förderung der Gütererzeugung verbindet sich die Notwendigkeit der Aufhebung aller rückständigen Produktionsformen. Durch Aufhebung des Erbrechts und Wegnahme der grossen Vermögen wird das Proletariat die sozialistische Umwälzung beschleunigen, durch Einführung der allgemeinen Arbeitspflicht das wirtschaftliche und sittliche Fundament der neuen Gesellschaftsordnung legen. Es wird durch Aufhebung aller nationalen Unterdrückung die nationalen Gegensätze zum Verschwinden bringen und volle Solidarität mit dem revolutionären Proletariat aller übrigen Länder üben.  Die Diktatur des Proletariats. Zur Durchführung all dieser Ziele und um den Widerstand der ihrer Macht verlustig gegangenen Klasse der Kapitalisten zu brechen, wird die politische Macht der Arbeiterklasse in Form der proletarischen Diktatur ausgeübt. Die Diktatur, das heisst die Anwendung aller staatlichen Gewaltmittel durch das zur herrschenden Klasse gewordene Proletariat, um die Widerstände niederzuzwingen, die die Bourgeoisie der Verwirklichung des Sozialismus entgegensetzt, ist eine Übergangsphase im Entwicklungsgange vom kapitalistischen Klassenstaat zum sozialistischen Gemeinwesen. Es hängt von den gegebenen ökonomischen, sozialen und politischen Verhältnissen des einzelnen Landes ab, welche Formen die Diktatur annehmen wird. Sollte das Proletariat mit den Mitteln der Demokratie die Macht erobern, so wäre im Falle des Widerstandes der Bourgeoisie auch die demokratische Staatsgewalt zur Anwendung der Diktatur gezwungen. Wird jedoch in der Periode der entscheidenden Machtkämpfe die Demokratie durch die Schärfe der Klassengegensätze gesprengt, so muss die Diktatur die Form einer Diktatur proletarischer Klassenorganisationen annehmen. Im Gegensatz zur Klassenherrschaft der Bourgeoisie erstrebt die Diktatur des Proletariats nicht die Aufrechterhaltung der Klassen, sondern ihre Beseitigung. Sie wirkt nicht im Interesse einer Minderheit, sondern im Interesse aller Arbeitenden,  7 also der grossen Mehrheit des Volkes. Die Diktatur ist also kein Versuch, durch das Mittel einer Parteidespotie die Interessen einer Minorität zum Siege zu führen. Das klassenbewusste Proletariat kann die Aufhebung des Kapitalismus durch den sozialistischen Aufbau nur zu Ende führen in Übereinstimmung und mit der beständigen aktiven Unterstützung dieser Mehrheit des arbeitenden Volkes, als dessen Werk der Sozialismus entstehen muss. So ist die Diktatur des Proletariats nur das revolutionäre Mittel zur Erringung der wahren, der sozialistischen Demokratie. Das Proletariat, das Menschenmord hasst und verabscheut und Krieg und Verbrechen aus der Welt schaffen will, wird stets nur gezwungen zu den Mitteln politischer und militärischer Gewalt greifen und zu dem ausschliesslichen Zwecke, die Errungenschaften der sozialen Revolution gegen die Angriffe der ehemals herrschenden Klassen und ihrer Söldlinge zu verteidigen. Die organisatorische Grundlage der Diktatur wird das Rätesystem sein, dessen jeweilige Form durch die gegebenen ökonomischen Verhältnisse bedingt wird. Durch sein engstes Verwachsensein mit dem Produktionsprozess, seine stete Fähigkeit der Erneuerung erweist sich das Rätesystem als die wirksamste Organisation des Proletariats im Kampfe um die politische Macht für die Kontrolle und Leitung des Produktionsprozesses wie auch zur politischen Schulung und wirklichen Selbstverwaltung des arbeitenden Volkes. Diese Selbstverwaltung kann sich keineswegs nur auf die manuellen Arbeiter gründen. Um ihre Aufgabe erfüllen zu können, muss sie die Zusammenarbeit der körperlich und geistig Schaffenden aller eine gesellschaftlich nützliche Arbeit leistenden Menschen verwirklichen. Mit der Übernahme der Staatsmacht durch das Proletariat ändern sich Wesen und Sein des Staates. Die Aufhebung der Ausbeutung und damit der Klassen lassen die politischen Funktionen immer mehr in blosse Verwaltungsfunktionen, die Beherrschung von Personen in eine Verwaltung von Sachen übergehen. Durch den allmählichen Einbezug aller Volksgenossen in die arbeitende Klasse hört das Proletariat als herrschende Klasse zu existieren auf. Der Staat als Unterdrückungsorganisation stirbt ab und weicht der Gemeinschaft aller freien arbeitenden Menschen.  III. Die sozialistische Gesellschaft. Die sozialistische Gesellschaft, in der die Produktionsmittel aufgehört haben, Kapital, das heisst Mittel zur Ausbeutung und Beherrschung der besitzlosen Klasse zu sein, wird die Fähigkeit besitzen, alle Produktionsmittel voll auszunutzen, alle Arbeitskräfte nützlich und am richtigen Ort anzuwenden, die Produktion dem Bedarf anzupassen und alle Bedürfnisse des einzelnen wie der Gesellschaft in reichlichem Masse zu befriedigen. Durch die immer rationellere Gestaltung der Produktion und Verteilung, vermöge der Fortschritte der Wissenschaft und Technik, und die Beseitigung aller Vergeudung schöpferischer Kräfte wird die Menschheit imstande sein, bei voller Befriedigung ihrer Bedürfnisse die gesellschaftlich notwendige Arbeitszeit so weit herabzusetzen, dass dem einzelnen die Möglichkeit der vollen Entfaltung seiner Anlagen und des vollen Genusses aller Kulturgüter zuteil wird. Grundlage und Voraussetzung der Persönlichkeit und Gesittung ist das Privateigentum an den Gütern des persönlichen Bedarfs, an dem, was zur Ernährung, zur Kleidung, zur Einrichtung und zum Schmuck der Wohnung, zu künstlerischem Geniessen, zur körperlichen und geistigen Ausbildung und geselligen  8 Erholung notwendig ist. Während durch den Kapitalismus der grösste Teil des Volkes von diesen Bedarfsmitteln entblösst und zu einem ruhelosen, einförmigen Dasein in der Tretmühle des täglichen Erwerbes verurteilt war, stellt der Sozialismus durch Aufhebung des auf Ausbeutung beruhenden Privateigentums an den Produktionsmitteln das individuelle Eigentum an den Gütern des Bedarfs wieder her und gibt jedem einzelnen, was er zur Befriedigung seiner leiblichen, gemütlichen und geistigen Bedürfnisse benötigt. Die sozialistische Gesellschaft, in der alle Herrschaftsverhältnisse und Vorrechte beseitigt sind, bringt auch der Frau die volle gesellschaftliche Gleichberechtigung mit dem Manne und die Möglichkeit naturgemässer Entwicklung und ungehinderter Betätigung ihrer Kräfte und Fähigkeiten. Die Ehe, in der bürgerlichen Gesellschaftsordnung meist eine Versorgungsanstalt und sehr häufig bloss eine gesetzlich geschützte Form der Prostitution, wird ihres ökonomischen Charakters entkleidet und in der persönlichen Zuneigung ihre sittliche Grundlage finden. Durch die Befriedigung der Bedürfnisse aller Arbeitenden und die Fürsorge der Gesellschaft für alle Arbeitsunfähigen werden Armut und Not, Verbrechen und Prostitution, die in den Zuständen des Kapitalismus ihren Nährboden fanden, als gesellschaftliche Erscheinung verschwinden. Die sozialistische Gesellschaft wird die Mittel besitzen, um die grossen Probleme der Erziehung zu lösen. Indem sie aber Empfänglichkeit für alles Schöne, Wahre, Gute in allen Menschen fördert, gibt sie gleichzeitig aller künstlerischen und wissenschaftlichen Tätigkeit neue, heute ungeahnte Antriebe und Wirkungskreise. Die Soziademokratische Partei tritt also aus dem Rahmen einer politischen Partei weit hinaus. Sie ist die Fahnenträgerin eines grossen Kulturkampfes der arbeitenden Klasse für die Erringung der vollen Menschenrechte, für die Erlösung der Menschen von den Geisseln der Armut und des Krieges, für die Sicherung der kulturellen Errungenschaften und für den kulturellen Fortschritt der ganzen Menschheit.  9  ARBEITSPROGRAMM der Sozialdemokratischen Partei der Schweiz (Angenommen durch den Parteitag vom 5./7. September 1924 in Basel.) Von der Prinzipienerklärung und den Erwägungen des Parteiprogramms ausgehend, gibt sich die Partei folgende Richtlinien für ihre praktische Tätigkeit:  I. Entwicklung der Demokratie. Wahl der gesetzgebenden und Exekutivbehörden in Bund, Kantonen und Gemeinden durch das Volk, unter Anwendung des Proporzes. Parlamentarische Immunität für alle Volksvertreter. Ökonomische Sicherung bei der Mandatausübung. Frauenwahl- und -stimmrecht, Gleichstellung der Schweizerbürger mit den Kantonsbürgern in kantonalen und kommunalen Angelegenheiten. Passives Wahlrecht des Personals der öffentlichen Dienste. Beseitigung der Ehrenfolgen bei fruchtloser Pfändung, Konkurs und Unterstützung aus öffentlichen Mitteln. Gesetzgebungsinitiative in Bund und Kantonen. Erleichterung der Einbürgerung von Ausländern. Trennung von Kirche und Staat.  II. Aussenpolitik und Internationale. Wahrung der staatlichen Neutralität in den Fragen der Aussenpolitik. Entscheidung internationaler Konflikte durch die Schiedsgerichtsbarkeit, sofern eine Lösung auf dem Wege direkter friedlicher Verhandlungen nicht möglich ist. Beseitigung der Geheimdiplomatie, Kontrolle der Aussenpolitik durch das Parlament, Organisation der Handels- und Zollpolitik mit dem Ziel der Schaffung einer mittel- und westeuropäischen Wirtschaftsgemeinschaft. Förderung der Errichtung und des Ausbaues von Handelsvertretungen und Berufskonsulaten. Ausbau der Gesandtschaften durch Sozialabteilungen. Unterstützung von in Not geratenen Schweizern im Ausland. Unterstützung und Förderung aller Bestrebungen, die auf die Schaffung einer auf der Grundlage proletarischer Solidarität und der Vereinheitlichung des Klassenkampfes beruhenden, im Frieden wie im Kriege aktionsfähigen sozialistischen Internationale gerichtet sind.  III. Militarismus und Landesverteidigung. Grundsätzlicher Kampf gegen Militarismus, Chauvinismus und Nationalismus. Planmässige Aufklärung des Volkes über Wesen, Zweck und Folgen des Militarismus. Ablehnung aller Forderungen, Kreditbegehren und Gesetze, die der Aufrechterhaltung oder Stärkung des Militarismus dienen oder die Gefahren kriegerischer Verwicklungen heraufbeschwören können. Organisierung des entschlossenen Widerstandes der Arbeiter gegen die Beteiligung des Landes an  10 jedem Krieg Erleichterung der finanziellen Folgen, von denen Parteigenossen betroffen werden können, die bei ihrer Verwendung als Soldaten gegen die Interessen der Arbeiterklasse den Gehorsam verweigern Unterstützung der Bestrebungen für die Einführung der Zivildienstpflicht, sofern der Zivildienst nicht militärischen Interessen dient.  IV. Wirtschaftspolitik und Genossenschaftsfragen. Staatliche oder gemischtwirtschaftliche Einfuhrmonopole der dem Massenkonsum dienenden Bedarfsgegenstände und der für die schweizerische Volkswirtschaft wichtigen Roh- und Hilfsstoffe. Einfuhr-, Produktions- und Handelsmonopol für Tabak und dessen Erzeugnisse mit Ertragsbestimmung für die Zwecke sozialer Versicherung und sozialer Fürsorge. Sicherstellung der Brotversorgung durch das Getreidemonopol und die Verstaatlichung der Müllerei. Staatliche Ausnutzung der Wasserkräfte. Austausch elektrischer Energie durch eidgenössische Sammelschienen. Regelung des Energieexportes durch den Bund. Kommunalisierung der Gas- und Wasserwerke wie der Strassenbahnen und der Abgabe elektrischer Energie. Durchführung von Regiearbeiten. Organisation der Broterzeugung, der Milch- und Fleischversorgung sowie der Abgabe von Medikamenten durch Gemeinden oder Genossenschaften. Staatliche Aufsicht über die Tätigkeit und insbesondere über die Preispolitik der Aktiengesellschaften, Kartelle, Syndikate und Truste, der Banken und Geldinstitute sowie der Versicherungsgesellschaften, Staatliche Überwachung des \"Gründerwesens\". Ausbau der schweizerischen Handelsstatistik zu einer periodischen und umfassenden Wirtschafts- und Produktionsstatistik.  V. Finanz- und Steuerfragen. Eidgenössische Postsparkasse. Ausbau der Nationalbank durch Angliederung einer Hypothekar- und Handelsbank. Errichtung einer schweizerischen Städtebank. Schaffung einer durch die Gewerkschaften und Genossenschaften fundierten zentralen Arbeiterbank. Planmässige Währungspolitik im Interesse der Volkswirtschaft. Vereinheitlichung des Steuerwesens und des Veranlagungsverfahrens durch eine progressive Bundessteuer auf Einkommen und Vermögen. Heranziehung der Substanz grosser Vermögen in Zeiten ausserordentlicher Beanspruchung der Staatsfinanzen. Besteuerung des Wertzuwachses auf Liegenschaften und unbebauten Grundstücken. Erbschaftssteuer, progressiv nach der Grösse des Erbfalles und dem Grade der Verwandtschaft. Amtliche Inventarisation in allen Todesfällen. Steuerbefreiung eines zum Leben notwendigen Betrages. Zollfreiheit auf unentbehrlichen Lebensmitteln und Bedarfsgegenständen sowie auf den für die Förderung der Produktion wichtigsten Roh- und Hilfsstoffen. Beseitigung der den Massenkonsum belastenden indirekten Steuern.  11  VI. Verwaltungsfragen. Verwaltungsgerichtsbarkeit. Autonomie der Gemeinden. Ausbau der staatlichen und kommunalen Produktionsbetriebe im Rahmen gesetzlicher Vorschriften und unter Anerkennung des Mitverwaltungsrechtes der Arbeiterklasse. Ausscheidung der Kompetenzen und Verantwortlichkeiten des Beamtenkörpers nach der Bedeutung der Funktionen der einzelnen Beamtung. Gesetzliche oder tarifliche Regelung der Amts-, Dienst- und Gehaltsverhältnisse des Personals öffentlicher Dienste im Sinne vorbildlicher Einrichtungen. Mitspracherecht des Personals in Organisations- und Betriebsfragen der öffentlichen Dienste.  VII. Kultur- und Schulfragen. Förderung des Kampfes gegen den Alkoholismus. Zweckmässige Verwendung des Alkoholzehntels. Organisation der geistigen und physischen Erziehung Erwachsener durch Errichtung von Volkshäusern, Arbeiterhochschulen, öffentlichen Versammlungslokalen, Lesesälen, Bädern und Sportplätzen Gewährung von unentgeltlichen wissenschaftlichen, künstlerischen und belehrenden Darbietungen und Exkursionen. Kindergärten, Jugendhorte, Spielkurse, Ferienkolonien, Wald und Freiluftschulen. Energischer Kampf gegen die geistige Überlastung der Schüler und Förderung ihrer körperlichen Erziehung. Unentgeltlichkeit der Lehrmittel und Unterrichtsmaterialien. Unentgeltlichkeit des Unterrichtes für alle Begabten bis zu den obersten Stufen der Hochschulen. Unterstützung Bedürftiger durch ausreichende Stipendien, Schülerspeisung und Schülerkleidung. Schulärzte und Schulzahnkliniken. Aufbau des Unterrichtes auf dem Boden gemeinschaftlicher Arbeit. Handarbeitsunterricht für beide Geschlechter. Haushaltungs- und Kochschulen. Obligatorische Fortbildungsschulen. Ausschluss des Religionsunterrichtes aus der Schule. Ausreichende Sorge für die Bildung Anormaler. Berufslehre in Lehrwerkstätten und Fachschulen.  VIII. Sozialpolitik, Arbeiterschutz und Arbeiterrecht. Eidgenössisches Wohnungsgesetz Erhaltung und Vermehrung des staatlichen und kommunalen Grundbesitzes. Erstellung billiger Wohnungen durch Staat, Gemeinden und Genossenschaften. Ausbau der Kranken- und Unfallversicherung. Vermehrte finanzielle Hilfe des Staates an die Krankenversicherung. Unentgeltliche ärztliche Hilfe, Heilmittel, Geburtshilfe und Wöchnerinnenpflege. Säuglingsheime. Ausreichende Krankenheilanstalten, Asyle und Sanatorien, insbesondere Förderung des Kampfes gegen die Tuberkulose.  12 Alters-, Invaliden- und Hinterbliebenenversicherung durch Staat oder selbständige genossenschaftliche Organisation der Arbeiterklasse. Eidgenössische Armengesetzgebung, unter Anwendung des wohnörtlichen Unterstützungsprinzips. Ausreichende Unterstützung, um vorübergehend Verarmte wieder existenzfähig zu machen. Humane Behandlung der Unterstützungsbedürftigen, Schutz ihrer Ehre. 48-Stunden-Woche. Ausbau und Ausdehnung des Fabrikgesetzes. Verbot der Beschäftigung von Kindern unter 15 Jahren. Ausdehnung der Fabrik- und Gewerbeinspektion. Weibliche Fabrik- und Gewerbeinspektoren. Eidgenössische Gewerbegesetzgebung. Eidgenössisches Lehrlingsgesetz. Heimarbeiterschutzgesetz mit Sicherung der Lohnminima. Schutz des Koalitions- und Streikrechtes. Betriebsräte und Gewährung des Mitspracherechtes in Organisations- und Betriebsfragen. Systematische Beobachtung des Arbeitsmarktes. Ausbau der Arbeitsvermittlung. Regiearbeiten als Notstandsmassnahmen. Förderung der Arbeitslosenversicherung durch vermehrte Subventionierung der gewerkschaftlichen Arbeitslosenversicherung.  IX. Rechtspflege und Strafvollzug. Wahl der Richter durch das Volk. Vereinheitlichung des Strafrechtes durch den Bund. Beseitigung der Todesstrafe. Abschaffung der Strafminima. Jugendstrafrecht und Jugendgerichte. Verbeiständung der Angeschuldigten während der Untersuchung. Erhöhung des strafmündigen Alters. Beschränkung der Untersuchungs- und Sicherheitshaft auf dringende Fälle. Fürsorge für die Familien Verhafteter durch den Staat. Bedingte Verurteilung und bedingter Strafvollzug. Beseitigung des Vergeltungsprinzips und Anwendung des Besserungs- und Erziehungsprinzips im Strafvollzug. Schaffung von Kolonien für den Strafvollzug nach amerikanischem Vorbild. Unentgeltliche Rechtsauskunftsstellen. Unentgeltliche Prozessführung in Zivilsachen für Bedürftige. Beseitigung der Lohnpfändung. Schneller Rechtstrieb in Lohnstreitigkeiten. Herabsetzung der Betreibungsgebühren.  '}"
      ]
     },
     "execution_count": 17,
     "metadata": {},
     "output_type": "execute_result"
    }
   ],
   "source": [
    "# merge metadata and actual content for each document in the corpus\n",
    "# ugly, verbose syntax to merge two dictionaries\n",
    "data = [{**doc._.meta, **{'text': doc.text}} for doc in corpus]\n",
    "\n",
    "# export corpus as csv\n",
    "f_csv = '../data/swiss_party_programmes/corpus_party_programmes.csv'\n",
    "textacy.io.csv.write_csv(data, f_csv, fieldnames=data[0].keys())\n",
    "\n",
    "# csv format is the best to load in scattertext\n",
    "data[0]"
   ]
  },
  {
   "cell_type": "markdown",
   "metadata": {
    "slideshow": {
     "slide_type": "slide"
    }
   },
   "source": [
    "\n",
    "# In-class: Exercises I\n",
    "\n",
    "1. Make sure that your local copy of the Github repository KED2022 is up-to-date with `git pull`. You can find the relevant material as follows:\n",
    "- notebook `materials/code/KED2022_10.ipynb`\n",
    "- party programmes `materials/data/swiss_party_programmes/txt`\n",
    "\n",
    "2. Open the notebook in VS Code. @Windows people: Make sure that you are connected to WSL Ubuntu (check green badge).\n",
    "\n",
    "3. Run all the code in the notebook by clicking `Run All`.\n",
    "\n",
    "4. Process a another English sentence with spaCy instead of the one mentioning Apple.\n",
    "\n",
    "5. Load the German language model and process a German sentence.\n",
    "\n",
    "6. Play around with the code as it is a good way to learn. Modify one thing, run the code, and see if the output matches your expectations. Start easy and then get increasingly brave until the code breaks. Fix the issue and try again.\n"
   ]
  },
  {
   "cell_type": "markdown",
   "metadata": {
    "slideshow": {
     "slide_type": "slide"
    }
   },
   "source": [
    "# Explore Corpus interactively\n",
    "\n",
    "![Example Scattertext](../analysis/viz_party_differences.png)"
   ]
  },
  {
   "cell_type": "markdown",
   "metadata": {
    "slideshow": {
     "slide_type": "slide"
    }
   },
   "source": [
    "# Scattertext\n",
    "\n",
    "- how does language differ by two groups\n",
    "    - organization, person, gender, time etc.\n",
    "- interactive exploring\n",
    "- find discriminative terms \n",
    "    - *unigrams* + *bigrams*\n",
    "- scoring function *rank-frequency*\n",
    "    - normalized by number of terms `[0,1]`"
   ]
  },
  {
   "cell_type": "markdown",
   "metadata": {
    "slideshow": {
     "slide_type": "slide"
    }
   },
   "source": [
    "## Load CSV File\n",
    "\n",
    "load a dataset of 1 August speeches by Swiss federal councillors"
   ]
  },
  {
   "cell_type": "code",
   "execution_count": 18,
   "metadata": {
    "slideshow": {
     "slide_type": "-"
    }
   },
   "outputs": [
    {
     "data": {
      "text/html": [
       "<div>\n",
       "<style scoped>\n",
       "    .dataframe tbody tr th:only-of-type {\n",
       "        vertical-align: middle;\n",
       "    }\n",
       "\n",
       "    .dataframe tbody tr th {\n",
       "        vertical-align: top;\n",
       "    }\n",
       "\n",
       "    .dataframe thead th {\n",
       "        text-align: right;\n",
       "    }\n",
       "</style>\n",
       "<table border=\"1\" class=\"dataframe\">\n",
       "  <thead>\n",
       "    <tr style=\"text-align: right;\">\n",
       "      <th></th>\n",
       "      <th>Jahr</th>\n",
       "      <th>Status</th>\n",
       "      <th>Vollständigkeit</th>\n",
       "      <th>Redner</th>\n",
       "      <th>Geschlecht</th>\n",
       "      <th>Funktion</th>\n",
       "      <th>Partei</th>\n",
       "      <th>Partei-Original</th>\n",
       "      <th>Typ</th>\n",
       "      <th>Bemerkung</th>\n",
       "      <th>Sprache</th>\n",
       "      <th>Originalsprache</th>\n",
       "      <th>Ort</th>\n",
       "      <th>Titel</th>\n",
       "      <th>Anrede</th>\n",
       "      <th>Text</th>\n",
       "      <th>Originaltext</th>\n",
       "      <th>Quelle</th>\n",
       "      <th>descripton</th>\n",
       "    </tr>\n",
       "  </thead>\n",
       "  <tbody>\n",
       "    <tr>\n",
       "      <th>0</th>\n",
       "      <td>2018</td>\n",
       "      <td>done</td>\n",
       "      <td>vollständig</td>\n",
       "      <td>Alain Berset</td>\n",
       "      <td>m</td>\n",
       "      <td>BP</td>\n",
       "      <td>SP</td>\n",
       "      <td>SP</td>\n",
       "      <td>BP-Rede</td>\n",
       "      <td>NaN</td>\n",
       "      <td>de</td>\n",
       "      <td>NaN</td>\n",
       "      <td>NaN</td>\n",
       "      <td>NaN</td>\n",
       "      <td>Sehr geehrte Damen und Herren</td>\n",
       "      <td>Wir leben in der Schweiz in Frieden und Wohlst...</td>\n",
       "      <td>NaN</td>\n",
       "      <td>https://www.admin.ch/gov/de/start/dokumentatio...</td>\n",
       "      <td>Alain Berset, SP, 2018</td>\n",
       "    </tr>\n",
       "    <tr>\n",
       "      <th>3</th>\n",
       "      <td>2018</td>\n",
       "      <td>done</td>\n",
       "      <td>vollständig</td>\n",
       "      <td>Doris Leuthard</td>\n",
       "      <td>f</td>\n",
       "      <td>BR</td>\n",
       "      <td>CVP</td>\n",
       "      <td>CVP</td>\n",
       "      <td>Lokal</td>\n",
       "      <td>NaN</td>\n",
       "      <td>de</td>\n",
       "      <td>NaN</td>\n",
       "      <td>Villmergen</td>\n",
       "      <td>NaN</td>\n",
       "      <td>Liebe Mitbürgerinnen und Mitbürger</td>\n",
       "      <td>Ich bedanke mich für die Einladung zu Ihrer 1....</td>\n",
       "      <td>NaN</td>\n",
       "      <td>https://www.admin.ch/gov/de/start/dokumentatio...</td>\n",
       "      <td>Doris Leuthard, CVP, 2018</td>\n",
       "    </tr>\n",
       "    <tr>\n",
       "      <th>4</th>\n",
       "      <td>2018</td>\n",
       "      <td>done</td>\n",
       "      <td>vollständig</td>\n",
       "      <td>Guy Parmelin</td>\n",
       "      <td>m</td>\n",
       "      <td>BR</td>\n",
       "      <td>SVP</td>\n",
       "      <td>SVP</td>\n",
       "      <td>Lokal</td>\n",
       "      <td>NaN</td>\n",
       "      <td>de</td>\n",
       "      <td>NaN</td>\n",
       "      <td>NaN</td>\n",
       "      <td>«Armbrust und Hellebarde»</td>\n",
       "      <td>Sehr geehrte Eidgenossen, Meine Damen und Herren</td>\n",
       "      <td>Eine 1.-August-Rede ist eine der heikelsten rh...</td>\n",
       "      <td>NaN</td>\n",
       "      <td>https://www.admin.ch/gov/de/start/dokumentatio...</td>\n",
       "      <td>Guy Parmelin, SVP, 2018</td>\n",
       "    </tr>\n",
       "    <tr>\n",
       "      <th>5</th>\n",
       "      <td>2018</td>\n",
       "      <td>done</td>\n",
       "      <td>vollständig</td>\n",
       "      <td>Ignazio Cassis</td>\n",
       "      <td>m</td>\n",
       "      <td>BR</td>\n",
       "      <td>FDP</td>\n",
       "      <td>FDP</td>\n",
       "      <td>Lokal</td>\n",
       "      <td>NaN</td>\n",
       "      <td>de</td>\n",
       "      <td>NaN</td>\n",
       "      <td>Rorschach</td>\n",
       "      <td>Die Italianità hat ihre Wurzeln in Rorschach</td>\n",
       "      <td>Gueten Obig mitenand!</td>\n",
       "      <td>Und danke für diese freundliche Einladung!\\nIc...</td>\n",
       "      <td>NaN</td>\n",
       "      <td>https://www.admin.ch/gov/de/start/dokumentatio...</td>\n",
       "      <td>Ignazio Cassis, FDP, 2018</td>\n",
       "    </tr>\n",
       "    <tr>\n",
       "      <th>6</th>\n",
       "      <td>2018</td>\n",
       "      <td>done</td>\n",
       "      <td>vollständig</td>\n",
       "      <td>Simonetta Sommaruga</td>\n",
       "      <td>f</td>\n",
       "      <td>BR</td>\n",
       "      <td>SP</td>\n",
       "      <td>SP</td>\n",
       "      <td>Lokal</td>\n",
       "      <td>NaN</td>\n",
       "      <td>de</td>\n",
       "      <td>NaN</td>\n",
       "      <td>Muttenz</td>\n",
       "      <td>Heimat kennt keine Grenzen</td>\n",
       "      <td>Liebe Festgemeinde,\\nSehr geehrter Herr Regier...</td>\n",
       "      <td>Als ich die Einladung zu dieser Bundesfeier ge...</td>\n",
       "      <td>NaN</td>\n",
       "      <td>https://www.ejpd.admin.ch/ejpd/de/home/aktuell...</td>\n",
       "      <td>Simonetta Sommaruga, SP, 2018</td>\n",
       "    </tr>\n",
       "  </tbody>\n",
       "</table>\n",
       "</div>"
      ],
      "text/plain": [
       "   Jahr Status Vollständigkeit               Redner Geschlecht Funktion  \\\n",
       "0  2018   done     vollständig         Alain Berset          m       BP   \n",
       "3  2018   done     vollständig       Doris Leuthard          f       BR   \n",
       "4  2018   done     vollständig         Guy Parmelin          m       BR   \n",
       "5  2018   done     vollständig       Ignazio Cassis          m       BR   \n",
       "6  2018   done     vollständig  Simonetta Sommaruga          f       BR   \n",
       "\n",
       "  Partei Partei-Original      Typ Bemerkung Sprache Originalsprache  \\\n",
       "0     SP              SP  BP-Rede       NaN      de             NaN   \n",
       "3    CVP             CVP    Lokal       NaN      de             NaN   \n",
       "4    SVP             SVP    Lokal       NaN      de             NaN   \n",
       "5    FDP             FDP    Lokal       NaN      de             NaN   \n",
       "6     SP              SP    Lokal       NaN      de             NaN   \n",
       "\n",
       "          Ort                                         Titel  \\\n",
       "0         NaN                                           NaN   \n",
       "3  Villmergen                                           NaN   \n",
       "4         NaN                     «Armbrust und Hellebarde»   \n",
       "5   Rorschach  Die Italianità hat ihre Wurzeln in Rorschach   \n",
       "6     Muttenz                    Heimat kennt keine Grenzen   \n",
       "\n",
       "                                              Anrede  \\\n",
       "0                      Sehr geehrte Damen und Herren   \n",
       "3                 Liebe Mitbürgerinnen und Mitbürger   \n",
       "4   Sehr geehrte Eidgenossen, Meine Damen und Herren   \n",
       "5                              Gueten Obig mitenand!   \n",
       "6  Liebe Festgemeinde,\\nSehr geehrter Herr Regier...   \n",
       "\n",
       "                                                Text Originaltext  \\\n",
       "0  Wir leben in der Schweiz in Frieden und Wohlst...          NaN   \n",
       "3  Ich bedanke mich für die Einladung zu Ihrer 1....          NaN   \n",
       "4  Eine 1.-August-Rede ist eine der heikelsten rh...          NaN   \n",
       "5  Und danke für diese freundliche Einladung!\\nIc...          NaN   \n",
       "6  Als ich die Einladung zu dieser Bundesfeier ge...          NaN   \n",
       "\n",
       "                                              Quelle  \\\n",
       "0  https://www.admin.ch/gov/de/start/dokumentatio...   \n",
       "3  https://www.admin.ch/gov/de/start/dokumentatio...   \n",
       "4  https://www.admin.ch/gov/de/start/dokumentatio...   \n",
       "5  https://www.admin.ch/gov/de/start/dokumentatio...   \n",
       "6  https://www.ejpd.admin.ch/ejpd/de/home/aktuell...   \n",
       "\n",
       "                      descripton  \n",
       "0         Alain Berset, SP, 2018  \n",
       "3      Doris Leuthard, CVP, 2018  \n",
       "4        Guy Parmelin, SVP, 2018  \n",
       "5      Ignazio Cassis, FDP, 2018  \n",
       "6  Simonetta Sommaruga, SP, 2018  "
      ]
     },
     "execution_count": 18,
     "metadata": {},
     "output_type": "execute_result"
    }
   ],
   "source": [
    "# read dataset from csv file\n",
    "f_csv = '../data/dataset_speeches_federal_council_2019.csv'\n",
    "df = pd.read_csv(f_csv)\n",
    "\n",
    "# filter out non-german texts or very short texts\n",
    "df_sub = df[(df['Sprache'] == 'de') & (df['Text'].str.len() > 10)]\n",
    "\n",
    "# make new column containing all relevant metadata (showing in plot later on)\n",
    "df_sub['descripton'] = df_sub[['Redner', 'Partei', 'Jahr']].astype(str).agg(', '.join, axis=1)\n",
    "\n",
    "# sneak peek of dataset\n",
    "df_sub.head()"
   ]
  },
  {
   "cell_type": "markdown",
   "metadata": {
    "slideshow": {
     "slide_type": "slide"
    }
   },
   "source": [
    "## Create Scattertext Plot"
   ]
  },
  {
   "cell_type": "code",
   "execution_count": 19,
   "metadata": {
    "slideshow": {
     "slide_type": "-"
    }
   },
   "outputs": [
    {
     "data": {
      "text/plain": [
       "2479069"
      ]
     },
     "execution_count": 19,
     "metadata": {},
     "output_type": "execute_result"
    }
   ],
   "source": [
    "censor_tags = set(['CARD']) # tags to ignore in corpus, e.g. numbers\n",
    "\n",
    "# stop words to ignore in corpus\n",
    "de_stopwords = spacy.lang.de.stop_words.STOP_WORDS # default stop words\n",
    "custom_stopwords = set(['[', ']', '%'])\n",
    "de_stopwords = de_stopwords.union(custom_stopwords) # extend with custom stop words\n",
    "\n",
    "# create corpus from dataframe\n",
    "# lowercased terms, no stopwords, no numbers\n",
    "# use lemmas for English only, German quality is too bad\n",
    "corpus_speeches = st.CorpusFromPandas(df_sub, # dataset\n",
    "                             category_col='Partei', # index differences by ...\n",
    "                             text_col='Text', \n",
    "                             nlp=de, # German model\n",
    "                             feats_from_spacy_doc=st.FeatsFromSpacyDoc(tag_types_to_censor=censor_tags, use_lemmas=False),\n",
    "                             ).build().get_stoplisted_unigram_corpus(de_stopwords)\n",
    "# produce visualization (interactive html)\n",
    "html = st.produce_scattertext_explorer(corpus_speeches,\n",
    "            category='SP', # set attribute to divide corpus into two parts\n",
    "            category_name='SP',\n",
    "            not_category_name='other parties',\n",
    "            metadata=df_sub['descripton'],\n",
    "            width_in_pixels=1000,\n",
    "            minimum_term_frequency=5, # drop terms occurring less than 5 times\n",
    "            save_svg_button=True,                          \n",
    ")\n",
    "\n",
    "# write visualization to html file\n",
    "fname = \"../analysis/viz_party_differences.html\"\n",
    "open(fname, 'wb').write(html.encode('utf-8'))"
   ]
  },
  {
   "cell_type": "markdown",
   "metadata": {
    "slideshow": {
     "slide_type": "slide"
    }
   },
   "source": [
    "# Plot Term Frequencies over Time\n",
    "\n",
    "![Example](../analysis/rel_term_frq_nation.png)"
   ]
  },
  {
   "cell_type": "markdown",
   "metadata": {
    "slideshow": {
     "slide_type": "slide"
    }
   },
   "source": [
    "## Create Corpus from CSV\n",
    "\n",
    "How to make a corpus from a dataset in `.csv`-format?\n",
    "\n",
    "&rarr; define a new function `get_texts_from_csv`, similar to `get_texts`"
   ]
  },
  {
   "cell_type": "code",
   "execution_count": 20,
   "metadata": {
    "slideshow": {
     "slide_type": "-"
    }
   },
   "outputs": [],
   "source": [
    "def get_texts_from_csv(f_csv, text_column):\n",
    "    \"\"\"\n",
    "    Read dataset from a csv file and sequentially stream the rows,\n",
    "    including metadata.\n",
    "    \"\"\"\n",
    "    \n",
    "    # read dataframe\n",
    "    df = pd.read_csv(f_csv)\n",
    "    \n",
    "    # keep only documents that have text\n",
    "    filtered_df = df[df[text_column].notnull()]\n",
    "    \n",
    "    # iterate over rows in dataframe\n",
    "    for idx, row in filtered_df.iterrows():\n",
    "        \n",
    "        # read text and join lines (remove hard line-breaks)\n",
    "        text = row[text_column].replace('\\n', ' ')\n",
    "\n",
    "        # use all columns as metadata, except the column with the actual text\n",
    "        metadata = row.to_dict()\n",
    "        del metadata[text_column]\n",
    "\n",
    "        yield (text, metadata)\n",
    "\n",
    "f_csv = '../data/dataset_speeches_federal_council_2019.csv'\n",
    "texts = get_texts_from_csv(f_csv, text_column='Text')\n",
    "\n",
    "corpus_speeches = textacy.Corpus(de, data=texts)"
   ]
  },
  {
   "cell_type": "markdown",
   "metadata": {
    "slideshow": {
     "slide_type": "slide"
    }
   },
   "source": [
    "## Create a Group-Term Matrix"
   ]
  },
  {
   "cell_type": "code",
   "execution_count": 28,
   "metadata": {
    "slideshow": {
     "slide_type": "-"
    }
   },
   "outputs": [
    {
     "data": {
      "text/html": [
       "<div>\n",
       "<style scoped>\n",
       "    .dataframe tbody tr th:only-of-type {\n",
       "        vertical-align: middle;\n",
       "    }\n",
       "\n",
       "    .dataframe tbody tr th {\n",
       "        vertical-align: top;\n",
       "    }\n",
       "\n",
       "    .dataframe thead th {\n",
       "        text-align: right;\n",
       "    }\n",
       "</style>\n",
       "<table border=\"1\" class=\"dataframe\">\n",
       "  <thead>\n",
       "    <tr style=\"text-align: right;\">\n",
       "      <th></th>\n",
       "      <th>year</th>\n",
       "      <th>term</th>\n",
       "      <th>frequency</th>\n",
       "    </tr>\n",
       "  </thead>\n",
       "  <tbody>\n",
       "    <tr>\n",
       "      <th>0</th>\n",
       "      <td>1950</td>\n",
       "      <td>'s</td>\n",
       "      <td>0.000000</td>\n",
       "    </tr>\n",
       "    <tr>\n",
       "      <th>1</th>\n",
       "      <td>1951</td>\n",
       "      <td>'s</td>\n",
       "      <td>0.000000</td>\n",
       "    </tr>\n",
       "    <tr>\n",
       "      <th>2</th>\n",
       "      <td>1952</td>\n",
       "      <td>'s</td>\n",
       "      <td>0.000000</td>\n",
       "    </tr>\n",
       "    <tr>\n",
       "      <th>3</th>\n",
       "      <td>1953</td>\n",
       "      <td>'s</td>\n",
       "      <td>0.000000</td>\n",
       "    </tr>\n",
       "    <tr>\n",
       "      <th>4</th>\n",
       "      <td>1954</td>\n",
       "      <td>'s</td>\n",
       "      <td>0.000000</td>\n",
       "    </tr>\n",
       "    <tr>\n",
       "      <th>...</th>\n",
       "      <td>...</td>\n",
       "      <td>...</td>\n",
       "      <td>...</td>\n",
       "    </tr>\n",
       "    <tr>\n",
       "      <th>1332040</th>\n",
       "      <td>2014</td>\n",
       "      <td>►</td>\n",
       "      <td>0.000000</td>\n",
       "    </tr>\n",
       "    <tr>\n",
       "      <th>1332041</th>\n",
       "      <td>2015</td>\n",
       "      <td>►</td>\n",
       "      <td>0.000000</td>\n",
       "    </tr>\n",
       "    <tr>\n",
       "      <th>1332042</th>\n",
       "      <td>2016</td>\n",
       "      <td>►</td>\n",
       "      <td>0.000000</td>\n",
       "    </tr>\n",
       "    <tr>\n",
       "      <th>1332043</th>\n",
       "      <td>2017</td>\n",
       "      <td>►</td>\n",
       "      <td>0.000000</td>\n",
       "    </tr>\n",
       "    <tr>\n",
       "      <th>1332044</th>\n",
       "      <td>2018</td>\n",
       "      <td>►</td>\n",
       "      <td>0.000125</td>\n",
       "    </tr>\n",
       "  </tbody>\n",
       "</table>\n",
       "<p>1332045 rows × 3 columns</p>\n",
       "</div>"
      ],
      "text/plain": [
       "         year term  frequency\n",
       "0        1950   's   0.000000\n",
       "1        1951   's   0.000000\n",
       "2        1952   's   0.000000\n",
       "3        1953   's   0.000000\n",
       "4        1954   's   0.000000\n",
       "...       ...  ...        ...\n",
       "1332040  2014    ►   0.000000\n",
       "1332041  2015    ►   0.000000\n",
       "1332042  2016    ►   0.000000\n",
       "1332043  2017    ►   0.000000\n",
       "1332044  2018    ►   0.000125\n",
       "\n",
       "[1332045 rows x 3 columns]"
      ]
     },
     "execution_count": 28,
     "metadata": {},
     "output_type": "execute_result"
    }
   ],
   "source": [
    "# define what groups are formed and what terms should be included\n",
    "# here, groups by year and words are lowercased (incl. stop words)\n",
    "tokenized_docs, groups = textacy.io.unzip(\n",
    "        (textacy.extract.utils.terms_to_strings(textacy.extract.words(doc, filter_stops=False), by=\"lower\"),\n",
    "        doc._.meta[\"Jahr\"])\n",
    "        for doc in corpus_speeches)\n",
    "\n",
    "# define how to count\n",
    "# here relative term frequency\n",
    "vectorizer = textacy.representations.vectorizers.GroupVectorizer(\n",
    "        tf_type='linear', # absolute term frequency\n",
    "        dl_type=\"linear\", # normalized by document length\n",
    "        vocabulary_grps=range(1950, 2019)) # limit to years from 1950 to 2019\n",
    "\n",
    "# create group-term-matrix with with frequency counts\n",
    "grp_term_matrix = vectorizer.fit_transform(tokenized_docs, groups)\n",
    "\n",
    "# create dataframe from matrix\n",
    "df_terms = pd.DataFrame.sparse.from_spmatrix(grp_term_matrix, index=vectorizer.grps_list, columns=vectorizer.terms_list)\n",
    "df_terms['year'] = df_terms.index\n",
    "\n",
    "# change shape of dataframe\n",
    "df_tidy = df_terms.melt(id_vars='year', var_name=\"term\", value_name=\"frequency\")\n",
    "df_tidy"
   ]
  },
  {
   "cell_type": "markdown",
   "metadata": {
    "slideshow": {
     "slide_type": "slide"
    }
   },
   "source": [
    "## Plot frequencies over time"
   ]
  },
  {
   "cell_type": "code",
   "execution_count": 22,
   "metadata": {
    "scrolled": true,
    "slideshow": {
     "slide_type": "-"
    }
   },
   "outputs": [
    {
     "data": {
      "image/png": "[encoded data removed]",
      "text/plain": [
       "<Figure size 640x480 with 1 Axes>"
      ]
     },
     "metadata": {},
     "output_type": "display_data"
    },
    {
     "data": {
      "text/plain": [
       "<ggplot: (8773265377169)>"
      ]
     },
     "execution_count": 22,
     "metadata": {},
     "output_type": "execute_result"
    }
   ],
   "source": [
    "# filter the dataset for the following terms\n",
    "terms = [\"volk\", \"schweiz\", \"nation\"]\n",
    "df_terms = df_tidy[df_tidy['term'].isin(terms)]\n",
    "\n",
    "# plot the relative frequency for the terms above\n",
    "(ggplot(df_terms, aes(x='year', y='frequency', color='term'))\n",
    " + geom_point() # show individual points\n",
    " + stat_smooth(method='lowess', span=0.15, se=False) # overlay points with a smoothed line\n",
    " + theme_classic()) # make the plot look nicer"
   ]
  },
  {
   "cell_type": "code",
   "execution_count": 37,
   "metadata": {
    "slideshow": {
     "slide_type": "slide"
    }
   },
   "outputs": [
    {
     "data": {
      "image/png": "[encoded data removed]",
      "text/plain": [
       "<Figure size 640x480 with 1 Axes>"
      ]
     },
     "metadata": {},
     "output_type": "display_data"
    },
    {
     "data": {
      "text/plain": [
       "<ggplot: (8773255190459)>"
      ]
     },
     "execution_count": 37,
     "metadata": {},
     "output_type": "execute_result"
    }
   ],
   "source": [
    "# check some other terms\n",
    "terms = [\"solidarität\", \"kultur\", \"werte\"]\n",
    "\n",
    "df_terms = df_tidy[df_tidy['term'].isin(terms)]\n",
    "\n",
    "(ggplot(df_terms, aes('year', 'frequency', color='term'))\n",
    " + geom_point(alpha=0.5, stroke = 0)\n",
    " + stat_smooth(method='lowess', span=0.10, se=False)\n",
    " + theme_classic())"
   ]
  },
  {
   "cell_type": "markdown",
   "metadata": {
    "slideshow": {
     "slide_type": "slide"
    }
   },
   "source": [
    "## Save Plot"
   ]
  },
  {
   "cell_type": "code",
   "execution_count": 43,
   "metadata": {
    "slideshow": {
     "slide_type": "-"
    }
   },
   "outputs": [
    {
     "data": {
      "image/png": "[encoded data removed]",
      "text/plain": [
       "<Figure size 640x480 with 1 Axes>"
      ]
     },
     "metadata": {},
     "output_type": "display_data"
    },
    {
     "data": {
      "text/plain": [
       "<ggplot: (8773252464604)>"
      ]
     },
     "execution_count": 43,
     "metadata": {},
     "output_type": "execute_result"
    }
   ],
   "source": [
    "# check some other terms\n",
    "terms = [\"schweizer\", \"schweizerinnen\"]\n",
    "df_terms = df_tidy[df_tidy['term'].isin(terms)]\n",
    "\n",
    "p = (ggplot(df_terms, aes('year', 'frequency', color='term'))\n",
    " + geom_point(alpha=0.5, stroke = 0) # set transparency\n",
    " + stat_smooth(method='lowess', span=0.2, se=False)\n",
    " + theme_classic())\n",
    "\n",
    "# save as png\n",
    "fname = '../analysis/rel_term_frq_gender.png'\n",
    "p.save(filename=fname, dpi=150, verbose = False)\n",
    "p"
   ]
  },
  {
   "cell_type": "markdown",
   "metadata": {
    "slideshow": {
     "slide_type": "slide"
    }
   },
   "source": [
    "# Number of Documents per Year"
   ]
  },
  {
   "cell_type": "code",
   "execution_count": 69,
   "metadata": {
    "slideshow": {
     "slide_type": "-"
    }
   },
   "outputs": [
    {
     "data": {
      "image/png": "[encoded data removed]",
      "text/plain": [
       "<Figure size 640x480 with 1 Axes>"
      ]
     },
     "metadata": {},
     "output_type": "display_data"
    },
    {
     "data": {
      "text/plain": [
       "<ggplot: (8773250099107)>"
      ]
     },
     "execution_count": 69,
     "metadata": {},
     "output_type": "execute_result"
    }
   ],
   "source": [
    "docs_per_year = df_sub.groupby('Jahr').agg({'Text': \"count\" }).reset_index().rename(columns={'Text':'count'})\n",
    "\n",
    "(ggplot(docs_per_year, aes(x='Jahr', y='count'))\n",
    " + geom_line(color='darkblue')\n",
    " +  labs(title = \"Number of Speeches per Year\", x = \"Year\", y = \"absolute frequency\")\n",
    " + scale_y_continuous(breaks=range(0, 11))\n",
    " + theme_classic())"
   ]
  },
  {
   "cell_type": "markdown",
   "metadata": {
    "slideshow": {
     "slide_type": "slide"
    }
   },
   "source": [
    "# Working on Mini-Project\n",
    "\n",
    "Ask questions, <br>\n",
    "I am ready to help!\n",
    "\n",
    "![Help!](../../lectures/images/help_frog.gif)"
   ]
  },
  {
   "cell_type": "markdown",
   "metadata": {
    "slideshow": {
     "slide_type": "slide"
    }
   },
   "source": [
    "\n",
    "# In-class: Exercises I\n",
    "\n",
    "1. Make sure that your local copy of the Github repository KED2022 is up-to-date with `git pull`. You can find the relevant material as follows:\n",
    "- notebook `materials/code/KED2022_10.ipynb`\n",
    "- dataset `materials/data/dataset_speeches_federal_council_2019.csv`.\n",
    "\n",
    "2. Open the notebook in VS Code.\n",
    "\n",
    "3. Play around with the code as it is a good way to learn. Modify one thing, run the code, and see if the output matches your expectations. Start easy and then get increasingly brave until the code breaks. Fix the issue and try again.\n",
    "\n",
    "4. Getting bored? Check out the documentation of the packages linked on the next slide.\n"
   ]
  },
  {
   "cell_type": "markdown",
   "metadata": {
    "slideshow": {
     "slide_type": "slide"
    }
   },
   "source": [
    "# Resources\n",
    "\n",
    "#### tutorials on spaCy\n",
    "\n",
    "- [official spaCy 101](https://spacy.io/usage/spacy-101)\n",
    "- [official online course spaCy](https://course.spacy.io/en/chapter1)\n",
    "- [Hitchhiker's Guide to NLP in spaCy](https://www.kaggle.com/nirant/hitchhiker-s-guide-to-nlp-in-spacy)"
   ]
  }
 ],
 "metadata": {
  "celltoolbar": "Slideshow",
  "kernelspec": {
   "display_name": "Python 3 (ipykernel)",
   "language": "python",
   "name": "python3"
  },
  "language_info": {
   "codemirror_mode": {
    "name": "ipython",
    "version": 3
   },
   "file_extension": ".py",
   "mimetype": "text/x-python",
   "name": "python",
   "nbconvert_exporter": "python",
   "pygments_lexer": "ipython3",
   "version": "3.10.4"
  },
  "rise": {
   "enable_chalkboard": true
  }
 },
 "nbformat": 4,
 "nbformat_minor": 4
}
