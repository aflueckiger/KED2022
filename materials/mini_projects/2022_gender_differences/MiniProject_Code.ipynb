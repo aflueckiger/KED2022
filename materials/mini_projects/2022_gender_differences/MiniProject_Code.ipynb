{
 "cells": [
  {
   "cell_type": "code",
   "execution_count": null,
   "metadata": {},
   "outputs": [],
   "source": [
    "# import modules\n",
    "\n",
    "import spacy\n",
    "import textacy\n",
    "import scattertext as st\n",
    "import pandas as pd\n",
    "import plotnine as p9 \n",
    "from plotnine import ggplot, aes, geom_line, geom_point, stat_smooth, theme_classic"
   ]
  },
  {
   "cell_type": "code",
   "execution_count": null,
   "metadata": {},
   "outputs": [],
   "source": [
    "# create corpus object --> define function\n",
    "\n",
    "def get_texts_from_csv(f_csv, text_column):\n",
    "    \"\"\"\n",
    "   Read dataset from a csv file and sequentially stream the rows,\n",
    "    including metadata.\n",
    "    \"\"\"\n",
    "\n",
    "    # read dataframe\n",
    "    df = pd.read_csv(f_csv)\n",
    "\n",
    "    # keep only documents that have text\n",
    "    filtered_df = df[df[text_column].notnull()]\n",
    "    \n",
    "    # iterate over rows in dataframe\n",
    "    for idx, row in filtered_df.iterrows():\n",
    "        \n",
    "        #read text and join lines (hard line-breaks)\n",
    "        text = row[text_column].replace('\\n', ' ')\n",
    "\n",
    "        #use all columns as metadata, except the column with the actual text\n",
    "        metadata = row.to_dict()\n",
    "        del metadata[text_column]\n",
    "\n",
    "        # return documents one after another (sequentially)\n",
    "        yield (text, metadata)"
   ]
  },
  {
   "cell_type": "code",
   "execution_count": null,
   "metadata": {},
   "outputs": [],
   "source": [
    "# create corpus object --> process documents and create corpus\n",
    "\n",
    "# stream texts from a given folder\n",
    "f_csv = '../KED2022/materials/data/dataset_speeches_federal_council_2019.csv'\n",
    "texts = get_texts_from_csv(f_csv, text_column='text')\n",
    "\n",
    "# load german language model\n",
    "de = textacy.load_spacy_lang(\"de_core_news_sm\")\n",
    "\n",
    "# create corpus from processed documents\n",
    "corpus_speeches_XY = textacy.Corpus(de, data=texts)"
   ]
  },
  {
   "cell_type": "code",
   "execution_count": null,
   "metadata": {},
   "outputs": [],
   "source": [
    "# make Python understand gender\n",
    "m = \"male\"\n",
    "f = \"female\"\n",
    "Geschlecht = [m,f]"
   ]
  },
  {
   "cell_type": "code",
   "execution_count": null,
   "metadata": {},
   "outputs": [],
   "source": [
    "# function to filter by metadata gender (all speeches held by a female person)\n",
    "def filter_func_female(doc):\n",
    "    return doc._.meta.get(\"Geschlecht\") == 'f'\n",
    "\n",
    "# create new corpus after applying filter function\n",
    "subcor_female = textacy.corpus.Corpus(de, data=corpus_speeches_XY.get(filter_func_female))"
   ]
  },
  {
   "cell_type": "code",
   "execution_count": null,
   "metadata": {},
   "outputs": [],
   "source": [
    "# function to filter by metadata gender (all speeches held by a male person)\n",
    "def filter_func_male(doc):\n",
    "    return doc._.meta.get(\"Geschlecht\") == 'm'\n",
    "\n",
    "# create new corpus after applying filter function\n",
    "subcor_male = textacy.corpus.Corpus(de, data=corpus_speeches_XY.get(filter_func_male))"
   ]
  },
  {
   "cell_type": "code",
   "execution_count": null,
   "metadata": {},
   "outputs": [],
   "source": [
    "# export corpus as csv dataset --> See Code provided by other Teammember"
   ]
  }
 ],
 "metadata": {
  "language_info": {
   "name": "python"
  },
  "orig_nbformat": 4
 },
 "nbformat": 4,
 "nbformat_minor": 2
}
